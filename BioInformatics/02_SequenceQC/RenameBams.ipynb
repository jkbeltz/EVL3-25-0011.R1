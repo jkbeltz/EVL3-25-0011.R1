{
 "cells": [
  {
   "cell_type": "code",
   "execution_count": 2,
   "metadata": {},
   "outputs": [
    {
     "name": "stderr",
     "output_type": "stream",
     "text": [
      "\n",
      "Attaching package: ‘data.table’\n",
      "\n",
      "\n",
      "The following objects are masked from ‘package:dplyr’:\n",
      "\n",
      "    between, first, last\n",
      "\n",
      "\n",
      "The following object is masked from ‘package:purrr’:\n",
      "\n",
      "    transpose\n",
      "\n",
      "\n"
     ]
    }
   ],
   "source": [
    "#Renaming Bam files in a manner that allows for HAFpipe to be run"
   ]
  },
  {
   "cell_type": "code",
   "execution_count": 1,
   "metadata": {},
   "outputs": [
    {
     "name": "stderr",
     "output_type": "stream",
     "text": [
      "── \u001b[1mAttaching packages\u001b[22m ─────────────────────────────────────── tidyverse 1.3.1 ──\n",
      "\n",
      "\u001b[32m✔\u001b[39m \u001b[34mggplot2\u001b[39m 3.3.6     \u001b[32m✔\u001b[39m \u001b[34mpurrr  \u001b[39m 0.3.4\n",
      "\u001b[32m✔\u001b[39m \u001b[34mtibble \u001b[39m 3.1.7     \u001b[32m✔\u001b[39m \u001b[34mdplyr  \u001b[39m 1.0.9\n",
      "\u001b[32m✔\u001b[39m \u001b[34mtidyr  \u001b[39m 1.2.0     \u001b[32m✔\u001b[39m \u001b[34mstringr\u001b[39m 1.4.0\n",
      "\u001b[32m✔\u001b[39m \u001b[34mreadr  \u001b[39m 2.1.2     \u001b[32m✔\u001b[39m \u001b[34mforcats\u001b[39m 0.5.1\n",
      "\n",
      "── \u001b[1mConflicts\u001b[22m ────────────────────────────────────────── tidyverse_conflicts() ──\n",
      "\u001b[31m✖\u001b[39m \u001b[34mdplyr\u001b[39m::\u001b[32mfilter()\u001b[39m masks \u001b[34mstats\u001b[39m::filter()\n",
      "\u001b[31m✖\u001b[39m \u001b[34mdplyr\u001b[39m::\u001b[32mlag()\u001b[39m    masks \u001b[34mstats\u001b[39m::lag()\n",
      "\n",
      "\n",
      "Attaching package: ‘data.table’\n",
      "\n",
      "\n",
      "The following objects are masked from ‘package:dplyr’:\n",
      "\n",
      "    between, first, last\n",
      "\n",
      "\n",
      "The following object is masked from ‘package:purrr’:\n",
      "\n",
      "    transpose\n",
      "\n",
      "\n"
     ]
    }
   ],
   "source": [
    "library(tidyverse)\n",
    "library(data.table)"
   ]
  },
  {
   "cell_type": "code",
   "execution_count": 4,
   "metadata": {
    "collapsed": true,
    "jupyter": {
     "outputs_hidden": true
    }
   },
   "outputs": [],
   "source": []
  },
  {
   "cell_type": "code",
   "execution_count": 2,
   "metadata": {
    "collapsed": true,
    "jupyter": {
     "outputs_hidden": true
    }
   },
   "outputs": [],
   "source": [
    "###Round 1 Sequencing - which was with Round 3 of Orchard 2020\n",
    "setwd('/scratch/groups/dpetrov/MarkB/Orchard2020Data/03_bams/')\n",
    "##Renaming bam files\n",
    "bam.files = list.files(path = \"./\", pattern = '.filtered.sorted.deduped.bam$')\n",
    "\n",
    "for (file in bam.files){\n",
    "    seq = strsplit(file, \".filtered.sorted.deduped.bam\")[[1]][1]\n",
    "    seq = strsplit(seq, \"_S\")[[1]][1]\n",
    "    names = read.csv(\"./Samples_Round1.csv\")\n",
    "    names = names %>%\n",
    "        filter(Number == seq) \n",
    "    new.name = as.character(names$BamName)\n",
    "    file.rename(file, new.name)\n",
    "}\n",
    "\n",
    "##Renaming bai files\n",
    "bai.files = list.files(path = \"./\", pattern = '.filtered.sorted.deduped.bam.bai$')\n",
    "\n",
    "for (file in bai.files){\n",
    "    seq = strsplit(file, \".filtered.sorted.deduped.bam.bai\")[[1]][1]\n",
    "    seq = strsplit(seq, \"_S\")[[1]][1]\n",
    "    names = read.csv(\"./Samples_Round1.csv\")\n",
    "    names = names %>%\n",
    "        filter(Number == seq) \n",
    "    new.name = as.character(names$BaiName)\n",
    "    file.rename(file, new.name)\n",
    "}\n",
    "\n",
    "##Renaming dp files\n",
    "dp.files = list.files(path = \"./\", pattern = '.dp.txt$')\n",
    "\n",
    "for (file in dp.files){\n",
    "    seq = strsplit(file, \".dp.txt\")[[1]][1]\n",
    "    seq = strsplit(seq, \"_S\")[[1]][1]\n",
    "    names = read.csv(\"./Samples_Round1.csv\")\n",
    "    names = names %>%\n",
    "        filter(Number == seq) \n",
    "    new.name = as.character(names$DPName)\n",
    "    file.rename(file, new.name)\n",
    "}\n",
    "\n",
    "\n"
   ]
  }
 ],
 "metadata": {
  "kernelspec": {
   "display_name": "R",
   "language": "R",
   "name": "ir"
  },
  "language_info": {
   "codemirror_mode": "r",
   "file_extension": ".r",
   "mimetype": "text/x-r-source",
   "name": "R",
   "pygments_lexer": "r",
   "version": "3.5.1"
  }
 },
 "nbformat": 4,
 "nbformat_minor": 4
}
