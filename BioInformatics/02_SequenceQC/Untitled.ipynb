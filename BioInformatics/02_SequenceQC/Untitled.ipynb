{
 "cells": [
  {
   "cell_type": "code",
   "execution_count": 1,
   "metadata": {},
   "outputs": [
    {
     "name": "stdout",
     "output_type": "stream",
     "text": [
      "#!/bin/bash\n",
      "\n",
      "while read line ; do\n",
      "    set $line\n",
      "    sbatch ./03B_ComputeHAFs.orch2021.sbatch $1 $2 $3 \n",
      "done <HAF.params.Test.csv\n"
     ]
    }
   ],
   "source": [
    "%%sh\n",
    "cd ../03_HAFPipe/\n",
    "cat ../03_HAFPipe/submit.HAFjobs.F1.sh"
   ]
  },
  {
   "cell_type": "code",
   "execution_count": null,
   "metadata": {
    "collapsed": true
   },
   "outputs": [],
   "source": [
    "%%sh\n",
    "while read line ; do \n",
    "    set $line\n",
    "    sbatch ./03I_DownsampBams.orch2021.sbatch $1 $2\n",
    "done <./Round1DownSampParams.txt"
   ]
  },
  {
   "cell_type": "code",
   "execution_count": null,
   "metadata": {
    "collapsed": true
   },
   "outputs": [],
   "source": [
    "%%sh\n",
    "while read line ; do \n",
    "    set $line\n",
    "    echo $2\n",
    "done <./Round1DownSampParams.txt"
   ]
  },
  {
   "cell_type": "code",
   "execution_count": 6,
   "metadata": {
    "collapsed": true
   },
   "outputs": [],
   "source": [
    "%%sh\n",
    "\n",
    "cd /scratch/groups/dpetrov/MarkB/Orchard2021Data/03_bams/RD2/SuccessfulBams_Round2/\n",
    "\n",
    "awk '{ sum += $3; n++ } END { if (n > 0) print sum / n; }' tp10_F1_E7.dp.txt > tp10_F1_E7_MeanDP.txt"
   ]
  },
  {
   "cell_type": "code",
   "execution_count": 18,
   "metadata": {},
   "outputs": [],
   "source": [
    "%%sh\n",
    "cd /scratch/groups/dpetrov/MarkB/Orchard2021Data/03_bams/RD1/\n",
    "\n",
    "while read line ; do \n",
    "    set $line\n",
    "    mv $1 ./MoveFiles/\n",
    "done <./Test.txt"
   ]
  },
  {
   "cell_type": "code",
   "execution_count": null,
   "metadata": {
    "collapsed": true
   },
   "outputs": [],
   "source": []
  }
 ],
 "metadata": {
  "kernelspec": {
   "display_name": "Python 3",
   "language": "python",
   "name": "python3"
  },
  "language_info": {
   "codemirror_mode": {
    "name": "ipython",
    "version": 3
   },
   "file_extension": ".py",
   "mimetype": "text/x-python",
   "name": "python",
   "nbconvert_exporter": "python",
   "pygments_lexer": "ipython3",
   "version": "3.6.1"
  }
 },
 "nbformat": 4,
 "nbformat_minor": 2
}
