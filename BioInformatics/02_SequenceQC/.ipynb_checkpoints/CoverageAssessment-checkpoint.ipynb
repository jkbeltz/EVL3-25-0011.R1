{
 "cells": [
  {
   "cell_type": "code",
   "execution_count": null,
   "metadata": {
    "collapsed": true
   },
   "outputs": [],
   "source": [
    "#Assessing coverage across successful samples\n"
   ]
  },
  {
   "cell_type": "code",
   "execution_count": 68,
   "metadata": {
    "collapsed": true
   },
   "outputs": [],
   "source": [
    "library('tidyverse')"
   ]
  },
  {
   "cell_type": "code",
   "execution_count": 69,
   "metadata": {
    "collapsed": true
   },
   "outputs": [],
   "source": [
    "#Round1\n",
    "\n",
    "setwd(\"/scratch/groups/dpetrov/MarkB/Orchard2020Data/AlignStatsCoverage_RD1/\")\n",
    "files = list.files(path = \"./\", pattern = \"*MeanDP.txt'*\")\n",
    "meta.data = data.frame()\n",
    "for (file in files){\n",
    "    sample = strsplit(file, \"_MeanDP.txt\" )[[1]][1]\n",
    "    data = read.table(file)\n",
    "    dp = data[1,1]\n",
    "    sample.data = cbind(sample, dp)\n",
    "    meta.data =  rbind(meta.data, sample.data)\n",
    "}\n",
    "samps.rd1  = meta.data %>%\n",
    "    mutate(dp = as.numeric(as.character(dp)))"
   ]
  },
  {
   "cell_type": "code",
   "execution_count": 70,
   "metadata": {
    "collapsed": true
   },
   "outputs": [],
   "source": [
    "lowCov.1 = samps.rd1 %>% filter(dp < 5)"
   ]
  },
  {
   "cell_type": "code",
   "execution_count": 71,
   "metadata": {
    "collapsed": true
   },
   "outputs": [],
   "source": [
    "#Rd 2\n",
    "setwd(\"/scratch/groups/dpetrov/MarkB/Orchard2020Data/AlignStatsCoverage_RD2/\")\n",
    "\n",
    "files = list.files(path = \"./\", pattern = \"*MeanDP.txt'*\")\n",
    "meta.data = data.frame()\n",
    "for (file in files){\n",
    "    sample = strsplit(file, \"_MeanDP.txt\" )[[1]][1]\n",
    "    data = read.table(file)\n",
    "    dp = data[1,1]\n",
    "    sample.data = cbind(sample, dp)\n",
    "    meta.data =  rbind(meta.data, sample.data)\n",
    "}\n",
    "samps.rd2  = meta.data %>%\n",
    "    mutate(dp = as.numeric(as.character(dp)))\n",
    "samps.rd2 = samps.rd2 %>% separate(sample, into = c('sample', NA), sep = \".Mean\")"
   ]
  },
  {
   "cell_type": "code",
   "execution_count": 72,
   "metadata": {
    "collapsed": true
   },
   "outputs": [],
   "source": [
    "lowCov.2 = samps.rd2 %>% filter(dp < 5)"
   ]
  },
  {
   "cell_type": "code",
   "execution_count": 73,
   "metadata": {
    "collapsed": true
   },
   "outputs": [],
   "source": [
    "samps.rd1 = samps.rd1 %>% mutate(seq.rd = '1')\n",
    "samps.rd2 = samps.rd2 %>% mutate(seq.rd ='2')\n",
    "df = rbind(samps.rd1, samps.rd2)"
   ]
  },
  {
   "cell_type": "code",
   "execution_count": 74,
   "metadata": {},
   "outputs": [
    {
     "data": {
      "text/html": [
       "<table class=\"dataframe\">\n",
       "<caption>A data.frame: 8 × 3</caption>\n",
       "<thead>\n",
       "\t<tr><th scope=col>sample</th><th scope=col>dp</th><th scope=col>seq.rd</th></tr>\n",
       "\t<tr><th scope=col>&lt;fct&gt;</th><th scope=col>&lt;dbl&gt;</th><th scope=col>&lt;chr&gt;</th></tr>\n",
       "</thead>\n",
       "<tbody>\n",
       "\t<tr><td>A3-2</td><td>1.91613e-01</td><td>1</td></tr>\n",
       "\t<tr><td>A6-3</td><td>2.99201e+00</td><td>1</td></tr>\n",
       "\t<tr><td>B1-1</td><td>2.69368e-05</td><td>1</td></tr>\n",
       "\t<tr><td>B2-4</td><td>1.75198e-05</td><td>1</td></tr>\n",
       "\t<tr><td>B5-5</td><td>1.00746e-02</td><td>1</td></tr>\n",
       "\t<tr><td>M1-5</td><td>4.01009e+00</td><td>1</td></tr>\n",
       "\t<tr><td>M3-5</td><td>9.79183e-02</td><td>1</td></tr>\n",
       "\t<tr><td>M3-5</td><td>3.13171e-05</td><td>2</td></tr>\n",
       "</tbody>\n",
       "</table>\n"
      ],
      "text/latex": [
       "A data.frame: 8 × 3\n",
       "\\begin{tabular}{lll}\n",
       " sample & dp & seq.rd\\\\\n",
       " <fct> & <dbl> & <chr>\\\\\n",
       "\\hline\n",
       "\t A3-2 & 1.91613e-01 & 1\\\\\n",
       "\t A6-3 & 2.99201e+00 & 1\\\\\n",
       "\t B1-1 & 2.69368e-05 & 1\\\\\n",
       "\t B2-4 & 1.75198e-05 & 1\\\\\n",
       "\t B5-5 & 1.00746e-02 & 1\\\\\n",
       "\t M1-5 & 4.01009e+00 & 1\\\\\n",
       "\t M3-5 & 9.79183e-02 & 1\\\\\n",
       "\t M3-5 & 3.13171e-05 & 2\\\\\n",
       "\\end{tabular}\n"
      ],
      "text/markdown": [
       "\n",
       "A data.frame: 8 × 3\n",
       "\n",
       "| sample &lt;fct&gt; | dp &lt;dbl&gt; | seq.rd &lt;chr&gt; |\n",
       "|---|---|---|\n",
       "| A3-2 | 1.91613e-01 | 1 |\n",
       "| A6-3 | 2.99201e+00 | 1 |\n",
       "| B1-1 | 2.69368e-05 | 1 |\n",
       "| B2-4 | 1.75198e-05 | 1 |\n",
       "| B5-5 | 1.00746e-02 | 1 |\n",
       "| M1-5 | 4.01009e+00 | 1 |\n",
       "| M3-5 | 9.79183e-02 | 1 |\n",
       "| M3-5 | 3.13171e-05 | 2 |\n",
       "\n"
      ],
      "text/plain": [
       "  sample dp          seq.rd\n",
       "1 A3-2   1.91613e-01 1     \n",
       "2 A6-3   2.99201e+00 1     \n",
       "3 B1-1   2.69368e-05 1     \n",
       "4 B2-4   1.75198e-05 1     \n",
       "5 B5-5   1.00746e-02 1     \n",
       "6 M1-5   4.01009e+00 1     \n",
       "7 M3-5   9.79183e-02 1     \n",
       "8 M3-5   3.13171e-05 2     "
      ]
     },
     "metadata": {},
     "output_type": "display_data"
    }
   ],
   "source": [
    "df %>% filter(dp < 5)"
   ]
  },
  {
   "cell_type": "code",
   "execution_count": 75,
   "metadata": {
    "collapsed": true
   },
   "outputs": [],
   "source": [
    "df = df %>% mutate(DataUsed = if_else(dp < 5, 'No', 'Yes'))\n"
   ]
  },
  {
   "cell_type": "code",
   "execution_count": 76,
   "metadata": {
    "collapsed": true
   },
   "outputs": [],
   "source": [
    "write.csv(df, \"../Orchard2020SequencingCoverage.csv\", row.names = FALSE)"
   ]
  },
  {
   "cell_type": "code",
   "execution_count": 121,
   "metadata": {
    "collapsed": true
   },
   "outputs": [],
   "source": [
    "df.used = df %>% filter(DataUsed == 'Yes')"
   ]
  },
  {
   "cell_type": "code",
   "execution_count": 122,
   "metadata": {},
   "outputs": [
    {
     "data": {
      "text/html": [
       "<style>\n",
       ".list-inline {list-style: none; margin:0; padding: 0}\n",
       ".list-inline>li {display: inline-block}\n",
       ".list-inline>li:not(:last-child)::after {content: \"\\00b7\"; padding: 0 .5ex}\n",
       "</style>\n",
       "<ol class=list-inline><li>98</li><li>4</li></ol>\n"
      ],
      "text/latex": [
       "\\begin{enumerate*}\n",
       "\\item 98\n",
       "\\item 4\n",
       "\\end{enumerate*}\n"
      ],
      "text/markdown": [
       "1. 98\n",
       "2. 4\n",
       "\n",
       "\n"
      ],
      "text/plain": [
       "[1] 98  4"
      ]
     },
     "metadata": {},
     "output_type": "display_data"
    }
   ],
   "source": [
    "dim(df.used)"
   ]
  },
  {
   "cell_type": "code",
   "execution_count": 123,
   "metadata": {},
   "outputs": [
    {
     "name": "stderr",
     "output_type": "stream",
     "text": [
      "Warning message:\n",
      "“Expected 2 pieces. Missing pieces filled with `NA` in 97 rows [1, 2, 3, 4, 5, 6, 7, 8, 9, 10, 11, 12, 13, 14, 15, 16, 17, 18, 19, 20, ...].”\n"
     ]
    },
    {
     "data": {
      "text/html": [
       "<table class=\"dataframe\">\n",
       "<caption>A data.frame: 1 × 5</caption>\n",
       "<thead>\n",
       "\t<tr><th scope=col>sample</th><th scope=col>rep</th><th scope=col>dp</th><th scope=col>seq.rd</th><th scope=col>DataUsed</th></tr>\n",
       "\t<tr><th scope=col>&lt;chr&gt;</th><th scope=col>&lt;chr&gt;</th><th scope=col>&lt;dbl&gt;</th><th scope=col>&lt;chr&gt;</th><th scope=col>&lt;chr&gt;</th></tr>\n",
       "</thead>\n",
       "<tbody>\n",
       "\t<tr><td>B2-4</td><td>rep</td><td>8.01284</td><td>2</td><td>Yes</td></tr>\n",
       "</tbody>\n",
       "</table>\n"
      ],
      "text/latex": [
       "A data.frame: 1 × 5\n",
       "\\begin{tabular}{lllll}\n",
       " sample & rep & dp & seq.rd & DataUsed\\\\\n",
       " <chr> & <chr> & <dbl> & <chr> & <chr>\\\\\n",
       "\\hline\n",
       "\t B2-4 & rep & 8.01284 & 2 & Yes\\\\\n",
       "\\end{tabular}\n"
      ],
      "text/markdown": [
       "\n",
       "A data.frame: 1 × 5\n",
       "\n",
       "| sample &lt;chr&gt; | rep &lt;chr&gt; | dp &lt;dbl&gt; | seq.rd &lt;chr&gt; | DataUsed &lt;chr&gt; |\n",
       "|---|---|---|---|---|\n",
       "| B2-4 | rep | 8.01284 | 2 | Yes |\n",
       "\n"
      ],
      "text/plain": [
       "  sample rep dp      seq.rd DataUsed\n",
       "1 B2-4   rep 8.01284 2      Yes     "
      ]
     },
     "metadata": {},
     "output_type": "display_data"
    }
   ],
   "source": [
    "df.used %>% separate(sample, into = c('sample', 'rep'), '_') %>% filter(rep == 'rep')"
   ]
  },
  {
   "cell_type": "code",
   "execution_count": 124,
   "metadata": {},
   "outputs": [
    {
     "data": {
      "text/html": [],
      "text/latex": [],
      "text/markdown": [],
      "text/plain": [
       "character(0)"
      ]
     },
     "metadata": {},
     "output_type": "display_data"
    }
   ],
   "source": [
    "as.character(df$sample[duplicated(df.used$sample)])\n"
   ]
  },
  {
   "cell_type": "code",
   "execution_count": 129,
   "metadata": {},
   "outputs": [
    {
     "data": {
      "text/html": [
       "<table class=\"dataframe\">\n",
       "<caption>A data.frame: 1 × 6</caption>\n",
       "<thead>\n",
       "\t<tr><th scope=col>sample</th><th scope=col>dp</th><th scope=col>seq.rd</th><th scope=col>DataUsed</th><th scope=col>amount.down</th><th scope=col>downsamp</th></tr>\n",
       "\t<tr><th scope=col>&lt;fct&gt;</th><th scope=col>&lt;dbl&gt;</th><th scope=col>&lt;chr&gt;</th><th scope=col>&lt;chr&gt;</th><th scope=col>&lt;dbl&gt;</th><th scope=col>&lt;chr&gt;</th></tr>\n",
       "</thead>\n",
       "<tbody>\n",
       "\t<tr><td>B4-4</td><td>71.5812</td><td>1</td><td>Yes</td><td>0.09779104</td><td>1</td></tr>\n",
       "</tbody>\n",
       "</table>\n"
      ],
      "text/latex": [
       "A data.frame: 1 × 6\n",
       "\\begin{tabular}{llllll}\n",
       " sample & dp & seq.rd & DataUsed & amount.down & downsamp\\\\\n",
       " <fct> & <dbl> & <chr> & <chr> & <dbl> & <chr>\\\\\n",
       "\\hline\n",
       "\t B4-4 & 71.5812 & 1 & Yes & 0.09779104 & 1\\\\\n",
       "\\end{tabular}\n"
      ],
      "text/markdown": [
       "\n",
       "A data.frame: 1 × 6\n",
       "\n",
       "| sample &lt;fct&gt; | dp &lt;dbl&gt; | seq.rd &lt;chr&gt; | DataUsed &lt;chr&gt; | amount.down &lt;dbl&gt; | downsamp &lt;chr&gt; |\n",
       "|---|---|---|---|---|---|\n",
       "| B4-4 | 71.5812 | 1 | Yes | 0.09779104 | 1 |\n",
       "\n"
      ],
      "text/plain": [
       "  sample dp      seq.rd DataUsed amount.down downsamp\n",
       "1 B4-4   71.5812 1      Yes      0.09779104  1       "
      ]
     },
     "metadata": {},
     "output_type": "display_data"
    }
   ],
   "source": [
    "df.used =  df.used %>% mutate(amount.down = 7/dp) %>% mutate(downsamp = round(amount.down, 2))\n",
    "df.used = df.used %>% separate(downsamp, into = c(NA, 'downsamp'), '0.')\n",
    "df.used %>% filter(amount.down < 0.1 )\n"
   ]
  },
  {
   "cell_type": "code",
   "execution_count": 133,
   "metadata": {
    "collapsed": true
   },
   "outputs": [],
   "source": [
    "d = df.used %>% dplyr::select(sample, downsamp) %>% rowwise() %>%\n",
    "    mutate(sample = paste0(sample, '.bam'))\n",
    "write.table(d, '../Orch2020.DownsampParams.txt', quote = FALSE, col.names = FALSE, row.names = FALSE)"
   ]
  },
  {
   "cell_type": "code",
   "execution_count": 1,
   "metadata": {},
   "outputs": [
    {
     "name": "stderr",
     "output_type": "stream",
     "text": [
      "── \u001b[1mAttaching packages\u001b[22m ─────────────────────────────────────── tidyverse 1.3.2 ──\n",
      "\u001b[32m✔\u001b[39m \u001b[34mggplot2\u001b[39m 3.4.0      \u001b[32m✔\u001b[39m \u001b[34mpurrr  \u001b[39m 0.3.5 \n",
      "\u001b[32m✔\u001b[39m \u001b[34mtibble \u001b[39m 3.1.8      \u001b[32m✔\u001b[39m \u001b[34mdplyr  \u001b[39m 1.0.10\n",
      "\u001b[32m✔\u001b[39m \u001b[34mtidyr  \u001b[39m 1.2.1      \u001b[32m✔\u001b[39m \u001b[34mstringr\u001b[39m 1.4.1 \n",
      "\u001b[32m✔\u001b[39m \u001b[34mreadr  \u001b[39m 2.1.3      \u001b[32m✔\u001b[39m \u001b[34mforcats\u001b[39m 0.5.2 \n",
      "── \u001b[1mConflicts\u001b[22m ────────────────────────────────────────── tidyverse_conflicts() ──\n",
      "\u001b[31m✖\u001b[39m \u001b[34mdplyr\u001b[39m::\u001b[32mfilter()\u001b[39m masks \u001b[34mstats\u001b[39m::filter()\n",
      "\u001b[31m✖\u001b[39m \u001b[34mdplyr\u001b[39m::\u001b[32mlag()\u001b[39m    masks \u001b[34mstats\u001b[39m::lag()\n",
      "\n",
      "Attaching package: ‘data.table’\n",
      "\n",
      "\n",
      "The following objects are masked from ‘package:dplyr’:\n",
      "\n",
      "    between, first, last\n",
      "\n",
      "\n",
      "The following object is masked from ‘package:purrr’:\n",
      "\n",
      "    transpose\n",
      "\n",
      "\n"
     ]
    }
   ],
   "source": [
    "library(tidyverse)\n",
    "library(data.table)\n",
    "setwd(\"/scratch/groups/dpetrov/MarkB/Orchard2020Data/AlignStatsCoverage_RD2/\")\n",
    "files = list.files(path = \"./\", pattern = '.dp.txt')\n",
    "\n",
    "for (file in files){\n",
    "    df = fread(file)\n",
    "    samp = strsplit(file, \".filtered.dp.txt\")[[1]][1]\n",
    "    colnames(df) = c('chrom', 'pos', 'dp')\n",
    "    df = df %>%\n",
    "        group_by(chrom) %>%\n",
    "        summarise(mean_dp = mean(dp))\n",
    "    df = df %>%\n",
    "        filter(chrom %in% c(\"2L\", \"2R\", \"3L\", \"3R\", \"X\"))\n",
    "    write.csv(df, paste0(samp, \".MeanChromDP.txt\"), row.names = FALSE)\n",
    "}\n"
   ]
  },
  {
   "cell_type": "code",
   "execution_count": 2,
   "metadata": {},
   "outputs": [
    {
     "data": {
      "text/html": [
       "<style>\n",
       ".list-inline {list-style: none; margin:0; padding: 0}\n",
       ".list-inline>li {display: inline-block}\n",
       ".list-inline>li:not(:last-child)::after {content: \"\\00b7\"; padding: 0 .5ex}\n",
       "</style>\n",
       "<ol class=list-inline><li>'A2-2.dp.txt.MeanChromDP.txt'</li><li>'A3-2.dp.txt.MeanChromDP.txt'</li><li>'A4-3.dp.txt.MeanChromDP.txt'</li><li>'A5-4.dp.txt.MeanChromDP.txt'</li><li>'A6-3.dp.txt.MeanChromDP.txt'</li><li>'B1-1.dp.txt.MeanChromDP.txt'</li><li>'B2-2.dp.txt.MeanChromDP.txt'</li><li>'B2-4_rep.dp.txt.MeanChromDP.txt'</li><li>'B2-4.dp.txt.MeanChromDP.txt'</li><li>'B3-4.dp.txt.MeanChromDP.txt'</li><li>'B4-1.dp.txt.MeanChromDP.txt'</li><li>'B5-5.dp.txt.MeanChromDP.txt'</li><li>'M1-4.dp.txt.MeanChromDP.txt'</li><li>'M1-5.dp.txt.MeanChromDP.txt'</li><li>'M12-4.dp.txt.MeanChromDP.txt'</li><li>'M2-2.dp.txt.MeanChromDP.txt'</li><li>'M2-4.dp.txt.MeanChromDP.txt'</li><li>'M3-2.dp.txt.MeanChromDP.txt'</li><li>'M4-4.dp.txt.MeanChromDP.txt'</li></ol>\n"
      ],
      "text/latex": [
       "\\begin{enumerate*}\n",
       "\\item 'A2-2.dp.txt.MeanChromDP.txt'\n",
       "\\item 'A3-2.dp.txt.MeanChromDP.txt'\n",
       "\\item 'A4-3.dp.txt.MeanChromDP.txt'\n",
       "\\item 'A5-4.dp.txt.MeanChromDP.txt'\n",
       "\\item 'A6-3.dp.txt.MeanChromDP.txt'\n",
       "\\item 'B1-1.dp.txt.MeanChromDP.txt'\n",
       "\\item 'B2-2.dp.txt.MeanChromDP.txt'\n",
       "\\item 'B2-4\\_rep.dp.txt.MeanChromDP.txt'\n",
       "\\item 'B2-4.dp.txt.MeanChromDP.txt'\n",
       "\\item 'B3-4.dp.txt.MeanChromDP.txt'\n",
       "\\item 'B4-1.dp.txt.MeanChromDP.txt'\n",
       "\\item 'B5-5.dp.txt.MeanChromDP.txt'\n",
       "\\item 'M1-4.dp.txt.MeanChromDP.txt'\n",
       "\\item 'M1-5.dp.txt.MeanChromDP.txt'\n",
       "\\item 'M12-4.dp.txt.MeanChromDP.txt'\n",
       "\\item 'M2-2.dp.txt.MeanChromDP.txt'\n",
       "\\item 'M2-4.dp.txt.MeanChromDP.txt'\n",
       "\\item 'M3-2.dp.txt.MeanChromDP.txt'\n",
       "\\item 'M4-4.dp.txt.MeanChromDP.txt'\n",
       "\\end{enumerate*}\n"
      ],
      "text/markdown": [
       "1. 'A2-2.dp.txt.MeanChromDP.txt'\n",
       "2. 'A3-2.dp.txt.MeanChromDP.txt'\n",
       "3. 'A4-3.dp.txt.MeanChromDP.txt'\n",
       "4. 'A5-4.dp.txt.MeanChromDP.txt'\n",
       "5. 'A6-3.dp.txt.MeanChromDP.txt'\n",
       "6. 'B1-1.dp.txt.MeanChromDP.txt'\n",
       "7. 'B2-2.dp.txt.MeanChromDP.txt'\n",
       "8. 'B2-4_rep.dp.txt.MeanChromDP.txt'\n",
       "9. 'B2-4.dp.txt.MeanChromDP.txt'\n",
       "10. 'B3-4.dp.txt.MeanChromDP.txt'\n",
       "11. 'B4-1.dp.txt.MeanChromDP.txt'\n",
       "12. 'B5-5.dp.txt.MeanChromDP.txt'\n",
       "13. 'M1-4.dp.txt.MeanChromDP.txt'\n",
       "14. 'M1-5.dp.txt.MeanChromDP.txt'\n",
       "15. 'M12-4.dp.txt.MeanChromDP.txt'\n",
       "16. 'M2-2.dp.txt.MeanChromDP.txt'\n",
       "17. 'M2-4.dp.txt.MeanChromDP.txt'\n",
       "18. 'M3-2.dp.txt.MeanChromDP.txt'\n",
       "19. 'M4-4.dp.txt.MeanChromDP.txt'\n",
       "\n",
       "\n"
      ],
      "text/plain": [
       " [1] \"A2-2.dp.txt.MeanChromDP.txt\"     \"A3-2.dp.txt.MeanChromDP.txt\"    \n",
       " [3] \"A4-3.dp.txt.MeanChromDP.txt\"     \"A5-4.dp.txt.MeanChromDP.txt\"    \n",
       " [5] \"A6-3.dp.txt.MeanChromDP.txt\"     \"B1-1.dp.txt.MeanChromDP.txt\"    \n",
       " [7] \"B2-2.dp.txt.MeanChromDP.txt\"     \"B2-4_rep.dp.txt.MeanChromDP.txt\"\n",
       " [9] \"B2-4.dp.txt.MeanChromDP.txt\"     \"B3-4.dp.txt.MeanChromDP.txt\"    \n",
       "[11] \"B4-1.dp.txt.MeanChromDP.txt\"     \"B5-5.dp.txt.MeanChromDP.txt\"    \n",
       "[13] \"M1-4.dp.txt.MeanChromDP.txt\"     \"M1-5.dp.txt.MeanChromDP.txt\"    \n",
       "[15] \"M12-4.dp.txt.MeanChromDP.txt\"    \"M2-2.dp.txt.MeanChromDP.txt\"    \n",
       "[17] \"M2-4.dp.txt.MeanChromDP.txt\"     \"M3-2.dp.txt.MeanChromDP.txt\"    \n",
       "[19] \"M4-4.dp.txt.MeanChromDP.txt\"    "
      ]
     },
     "metadata": {},
     "output_type": "display_data"
    }
   ],
   "source": [
    "library(tidyverse)\n",
    "library(data.table)\n",
    "setwd(\"/scratch/groups/dpetrov/MarkB/Orchard2020Data/AlignStatsCoverage_RD2/\")\n",
    "files = list.files(path = \"./\", pattern = '*MeanChrom*')\n",
    "files"
   ]
  },
  {
   "cell_type": "code",
   "execution_count": 4,
   "metadata": {},
   "outputs": [],
   "source": [
    "for (file in files){\n",
    "    samp = strsplit(file, '.dp.txt')[[1]][1]\n",
    "    new.name = paste0(samp, '.MeanChromDP.txt')\n",
    "    file.rename(file, new.name)\n",
    "    }\n"
   ]
  },
  {
   "cell_type": "code",
   "execution_count": null,
   "metadata": {
    "collapsed": true
   },
   "outputs": [],
   "source": []
  }
 ],
 "metadata": {
  "kernelspec": {
   "display_name": "R",
   "language": "R",
   "name": "ir"
  },
  "language_info": {
   "codemirror_mode": "r",
   "file_extension": ".r",
   "mimetype": "text/x-r-source",
   "name": "R",
   "pygments_lexer": "r",
   "version": "3.5.1"
  }
 },
 "nbformat": 4,
 "nbformat_minor": 2
}
