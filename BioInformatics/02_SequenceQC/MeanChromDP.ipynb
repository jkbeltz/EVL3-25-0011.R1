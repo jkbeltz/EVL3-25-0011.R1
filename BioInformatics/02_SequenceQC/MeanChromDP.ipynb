{
 "cells": [
  {
   "cell_type": "code",
   "execution_count": null,
   "metadata": {
    "collapsed": true
   },
   "outputs": [],
   "source": [
    "#Writing Script to compute mean depth per chronmosome"
   ]
  },
  {
   "cell_type": "code",
   "execution_count": 15,
   "metadata": {
    "collapsed": true
   },
   "outputs": [],
   "source": [
    "setwd('/scratch/groups/dpetrov/MarkB/Orchard2021Data/03_bams/RD1/')\n",
    "library(tidyverse)\n",
    "library(data.table)\n",
    "files = list.files(path = \"./\", pattern = '101_S97_L002.filtered.dp.txt')"
   ]
  },
  {
   "cell_type": "code",
   "execution_count": 21,
   "metadata": {},
   "outputs": [],
   "source": [
    "library(tidyverse)\n",
    "library(data.table)\n",
    "files = list.files(path = \"./\", pattern = '.filtered.dp.txt')\n",
    "\n",
    "for (file in files){\n",
    "    df = fread(file)\n",
    "    samp = strsplit(file, \".filtered.dp.txt\")[[1]][1]\n",
    "    colnames(df) = c('chrom', 'pos', 'dp')\n",
    "    df = df %>%\n",
    "        group_by(chrom) %>%\n",
    "        summarise(mean_dp = mean(dp))\n",
    "    df = df %>%\n",
    "        filter(chrom %in% c(\"2L\", \"2R\", \"3L\", \"3R\", \"X\"))\n",
    "    write.csv(df, paste0(samp, \".MeanChromDP.txt\"), row.names = FALSE)\n",
    "}"
   ]
  },
  {
   "cell_type": "code",
   "execution_count": 2,
   "metadata": {},
   "outputs": [
    {
     "data": {
      "text/html": [
       "<table class=\"dataframe\">\n",
       "<caption>A data.table: 6 × 3</caption>\n",
       "<thead>\n",
       "\t<tr><th scope=col>V1</th><th scope=col>V2</th><th scope=col>V3</th></tr>\n",
       "\t<tr><th scope=col>&lt;chr&gt;</th><th scope=col>&lt;int&gt;</th><th scope=col>&lt;int&gt;</th></tr>\n",
       "</thead>\n",
       "<tbody>\n",
       "\t<tr><td>2L</td><td>1</td><td>0</td></tr>\n",
       "\t<tr><td>2L</td><td>2</td><td>0</td></tr>\n",
       "\t<tr><td>2L</td><td>3</td><td>0</td></tr>\n",
       "\t<tr><td>2L</td><td>4</td><td>0</td></tr>\n",
       "\t<tr><td>2L</td><td>5</td><td>0</td></tr>\n",
       "\t<tr><td>2L</td><td>6</td><td>0</td></tr>\n",
       "</tbody>\n",
       "</table>\n"
      ],
      "text/latex": [
       "A data.table: 6 × 3\n",
       "\\begin{tabular}{lll}\n",
       " V1 & V2 & V3\\\\\n",
       " <chr> & <int> & <int>\\\\\n",
       "\\hline\n",
       "\t 2L & 1 & 0\\\\\n",
       "\t 2L & 2 & 0\\\\\n",
       "\t 2L & 3 & 0\\\\\n",
       "\t 2L & 4 & 0\\\\\n",
       "\t 2L & 5 & 0\\\\\n",
       "\t 2L & 6 & 0\\\\\n",
       "\\end{tabular}\n"
      ],
      "text/markdown": [
       "\n",
       "A data.table: 6 × 3\n",
       "\n",
       "| V1 &lt;chr&gt; | V2 &lt;int&gt; | V3 &lt;int&gt; |\n",
       "|---|---|---|\n",
       "| 2L | 1 | 0 |\n",
       "| 2L | 2 | 0 |\n",
       "| 2L | 3 | 0 |\n",
       "| 2L | 4 | 0 |\n",
       "| 2L | 5 | 0 |\n",
       "| 2L | 6 | 0 |\n",
       "\n"
      ],
      "text/plain": [
       "  V1 V2 V3\n",
       "1 2L 1  0 \n",
       "2 2L 2  0 \n",
       "3 2L 3  0 \n",
       "4 2L 4  0 \n",
       "5 2L 5  0 \n",
       "6 2L 6  0 "
      ]
     },
     "metadata": {},
     "output_type": "display_data"
    }
   ],
   "source": [
    "df = fread('./101_S97_L002.filtered.dp.txt')\n"
   ]
  },
  {
   "cell_type": "code",
   "execution_count": 5,
   "metadata": {
    "collapsed": true
   },
   "outputs": [],
   "source": [
    "colnames(df) = c('chrom', 'pos', 'dp')\n",
    "df = df %>%\n",
    "    group_by(chrom) %>%\n",
    "    summarise(mean_dp = mean(dp))"
   ]
  },
  {
   "cell_type": "code",
   "execution_count": 10,
   "metadata": {},
   "outputs": [],
   "source": [
    "colnames(df) = c('chrom', 'pos', 'dp')\n",
    "df = df %>%\n",
    "    group_by(chrom) %>%\n",
    "    summarise(mean_dp = mean(dp))\n",
    "df = df %>%\n",
    "    filter(chrom %in% c(\"2L\", \"2R\", \"3L\", \"3R\", \"X\"))\n",
    "write.csv(df, paste0())"
   ]
  },
  {
   "cell_type": "code",
   "execution_count": 22,
   "metadata": {
    "collapsed": true
   },
   "outputs": [],
   "source": [
    "df = fread(\"./101_S97_L002.MeanChromDP.txt\")"
   ]
  },
  {
   "cell_type": "code",
   "execution_count": 23,
   "metadata": {},
   "outputs": [
    {
     "data": {
      "text/html": [
       "<table class=\"dataframe\">\n",
       "<caption>A data.table: 5 × 3</caption>\n",
       "<thead>\n",
       "\t<tr><th scope=col>V1</th><th scope=col>chrom</th><th scope=col>mean_dp</th></tr>\n",
       "\t<tr><th scope=col>&lt;int&gt;</th><th scope=col>&lt;chr&gt;</th><th scope=col>&lt;dbl&gt;</th></tr>\n",
       "</thead>\n",
       "<tbody>\n",
       "\t<tr><td>1</td><td>2L</td><td>13.37754</td></tr>\n",
       "\t<tr><td>2</td><td>2R</td><td>14.62097</td></tr>\n",
       "\t<tr><td>3</td><td>3L</td><td>13.92499</td></tr>\n",
       "\t<tr><td>4</td><td>3R</td><td>13.79931</td></tr>\n",
       "\t<tr><td>5</td><td>X </td><td>13.88371</td></tr>\n",
       "</tbody>\n",
       "</table>\n"
      ],
      "text/latex": [
       "A data.table: 5 × 3\n",
       "\\begin{tabular}{lll}\n",
       " V1 & chrom & mean\\_dp\\\\\n",
       " <int> & <chr> & <dbl>\\\\\n",
       "\\hline\n",
       "\t 1 & 2L & 13.37754\\\\\n",
       "\t 2 & 2R & 14.62097\\\\\n",
       "\t 3 & 3L & 13.92499\\\\\n",
       "\t 4 & 3R & 13.79931\\\\\n",
       "\t 5 & X  & 13.88371\\\\\n",
       "\\end{tabular}\n"
      ],
      "text/markdown": [
       "\n",
       "A data.table: 5 × 3\n",
       "\n",
       "| V1 &lt;int&gt; | chrom &lt;chr&gt; | mean_dp &lt;dbl&gt; |\n",
       "|---|---|---|\n",
       "| 1 | 2L | 13.37754 |\n",
       "| 2 | 2R | 14.62097 |\n",
       "| 3 | 3L | 13.92499 |\n",
       "| 4 | 3R | 13.79931 |\n",
       "| 5 | X  | 13.88371 |\n",
       "\n"
      ],
      "text/plain": [
       "  V1 chrom mean_dp \n",
       "1 1  2L    13.37754\n",
       "2 2  2R    14.62097\n",
       "3 3  3L    13.92499\n",
       "4 4  3R    13.79931\n",
       "5 5  X     13.88371"
      ]
     },
     "metadata": {},
     "output_type": "display_data"
    }
   ],
   "source": [
    "df"
   ]
  },
  {
   "cell_type": "code",
   "execution_count": null,
   "metadata": {
    "collapsed": true
   },
   "outputs": [],
   "source": []
  }
 ],
 "metadata": {
  "kernelspec": {
   "display_name": "R",
   "language": "R",
   "name": "ir"
  },
  "language_info": {
   "codemirror_mode": "r",
   "file_extension": ".r",
   "mimetype": "text/x-r-source",
   "name": "R",
   "pygments_lexer": "r",
   "version": "3.5.1"
  }
 },
 "nbformat": 4,
 "nbformat_minor": 2
}
