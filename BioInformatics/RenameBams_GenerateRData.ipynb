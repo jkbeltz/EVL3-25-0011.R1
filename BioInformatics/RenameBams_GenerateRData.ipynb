{
 "cells": [
  {
   "cell_type": "code",
   "execution_count": 1,
   "metadata": {
    "collapsed": true
   },
   "outputs": [],
   "source": [
    "#Renaming Bam files in a manner that allows for HAFpipe to be run"
   ]
  },
  {
   "cell_type": "code",
   "execution_count": 1,
   "metadata": {},
   "outputs": [
    {
     "name": "stderr",
     "output_type": "stream",
     "text": [
      "── \u001b[1mAttaching packages\u001b[22m ─────────────────────────────────────── tidyverse 1.3.2 ──\n",
      "\u001b[32m✔\u001b[39m \u001b[34mggplot2\u001b[39m 3.4.0      \u001b[32m✔\u001b[39m \u001b[34mpurrr  \u001b[39m 0.3.5 \n",
      "\u001b[32m✔\u001b[39m \u001b[34mtibble \u001b[39m 3.1.8      \u001b[32m✔\u001b[39m \u001b[34mdplyr  \u001b[39m 1.0.10\n",
      "\u001b[32m✔\u001b[39m \u001b[34mtidyr  \u001b[39m 1.2.1      \u001b[32m✔\u001b[39m \u001b[34mstringr\u001b[39m 1.4.1 \n",
      "\u001b[32m✔\u001b[39m \u001b[34mreadr  \u001b[39m 2.1.3      \u001b[32m✔\u001b[39m \u001b[34mforcats\u001b[39m 0.5.2 \n",
      "── \u001b[1mConflicts\u001b[22m ────────────────────────────────────────── tidyverse_conflicts() ──\n",
      "\u001b[31m✖\u001b[39m \u001b[34mdplyr\u001b[39m::\u001b[32mfilter()\u001b[39m masks \u001b[34mstats\u001b[39m::filter()\n",
      "\u001b[31m✖\u001b[39m \u001b[34mdplyr\u001b[39m::\u001b[32mlag()\u001b[39m    masks \u001b[34mstats\u001b[39m::lag()\n",
      "\n",
      "Attaching package: ‘data.table’\n",
      "\n",
      "\n",
      "The following objects are masked from ‘package:dplyr’:\n",
      "\n",
      "    between, first, last\n",
      "\n",
      "\n",
      "The following object is masked from ‘package:purrr’:\n",
      "\n",
      "    transpose\n",
      "\n",
      "\n"
     ]
    }
   ],
   "source": [
    "library(tidyverse)\n",
    "library(data.table)"
   ]
  },
  {
   "cell_type": "code",
   "execution_count": 3,
   "metadata": {
    "collapsed": true
   },
   "outputs": [],
   "source": [
    "setwd('/home/users/mcbitter/dpetrov/MarkB/Orchard2020Data/03_bams_RD1/')\n",
    "names = read.csv(\"../RD1Sequencing_SampleKey.csv\")"
   ]
  },
  {
   "cell_type": "code",
   "execution_count": 22,
   "metadata": {
    "collapsed": true
   },
   "outputs": [],
   "source": [
    "setwd('/home/users/mcbitter/dpetrov/MarkB/Orchard2020Data/03_bams_RD1/')\n",
    "##Renaming bam files\n",
    "bam.files = list.files(path = \"./\", pattern = '.filtered.sorted.deduped.bam$')\n",
    "for (file in bam.files){\n",
    "    names = read.csv(\"../RD1Sequencing_SampleKey.csv\")\n",
    "    seq = strsplit(file, \".filtered.sorted.deduped.bam\")[[1]][1]\n",
    "    seq = strsplit(seq, \"_S\")[[1]][1]\n",
    "    names = names %>%\n",
    "        filter(AdmName == seq) \n",
    "    new.name = as.character(names$BamName)\n",
    "    file.rename(file, new.name)\n",
    "    }\n",
    "\n",
    "\n"
   ]
  },
  {
   "cell_type": "code",
   "execution_count": 24,
   "metadata": {
    "collapsed": true
   },
   "outputs": [],
   "source": [
    "setwd('/home/users/mcbitter/dpetrov/MarkB/Orchard2020Data/03_bams_RD1/')\n",
    "##Renaming bam files\n",
    "bam.files = list.files(path = \"./\", pattern = '.filtered.sorted.deduped.bam.bai$')\n",
    "for (file in bam.files){\n",
    "    names = read.csv(\"../RD1Sequencing_SampleKey.csv\")\n",
    "    seq = strsplit(file, \".filtered.sorted.deduped.bam\")[[1]][1]\n",
    "    seq = strsplit(seq, \"_S\")[[1]][1]\n",
    "    names = names %>%\n",
    "        filter(AdmName == seq) \n",
    "    new.name = paste0(as.character(names$BamName), \".bai\")\n",
    "    file.rename(file, new.name)\n",
    "    }\n",
    "\n",
    "\n"
   ]
  },
  {
   "cell_type": "code",
   "execution_count": 6,
   "metadata": {
    "collapsed": true
   },
   "outputs": [],
   "source": [
    "setwd('/home/users/mcbitter/dpetrov/MarkB/Orchard2020Data/03_bams_RD1/')\n",
    "##Renaming bai files\n",
    "bam.files = list.files(path = \"./\", pattern = '.filtered.sorted.deduped.bam$')\n",
    "for (file in bam.files){\n",
    "    seq = strsplit(file, \".filtered.sorted.deduped.bam\")[[1]][1]\n",
    "    seq = strsplit(seq, \"_S\")[[1]][1]\n",
    "    names = read.csv(\"../RD1Sequencing_SampleKey.csv\")\n",
    "    names = names %>%\n",
    "        filter(AdmName == seq) \n",
    "    new.name = as.character(names$BamName)\n",
    "    new.name = paste0(new.name, '.bai')\n",
    "    file.rename(file, new.name)\n",
    "    }\n"
   ]
  },
  {
   "cell_type": "code",
   "execution_count": 7,
   "metadata": {
    "collapsed": true
   },
   "outputs": [],
   "source": [
    "setwd('/home/users/mcbitter/dpetrov/MarkB/Orchard2020Data/RD1_AlignStatsCoverage/')\n",
    "##Renaming align stats, mean coverage, and coverage files\n",
    "bam.files = list.files(path = \"./\", pattern = '.AlignStats.txt')\n",
    "for (file in bam.files){\n",
    "    seq = strsplit(file, \".AlignStats.txt\")[[1]][1]\n",
    "    seq = strsplit(seq, \"_S\")[[1]][1]\n",
    "    names = read.csv(\"../RD1Sequencing_SampleKey.csv\")\n",
    "    names = names %>%\n",
    "        filter(AdmName == seq) \n",
    "    new.name = as.character(names$Name)\n",
    "    new.name = paste0(new.name, '.AlignStats.txt')\n",
    "    file.rename(file, new.name)\n",
    "    }\n",
    "\n",
    "\n",
    "bam.files = list.files(path = \"./\", pattern = '.dp.txt')\n",
    "for (file in bam.files){\n",
    "    seq = strsplit(file, \".filtered.sorted.deduped.dp.txt\")[[1]][1]\n",
    "    seq = strsplit(seq, \"_S\")[[1]][1]\n",
    "    names = read.csv(\"../RD1Sequencing_SampleKey.csv\")\n",
    "    names = names %>%\n",
    "        filter(AdmName == seq) \n",
    "    new.name = as.character(names$Name)\n",
    "    new.name = paste0(new.name, '.dp.txt')\n",
    "    file.rename(file, new.name)\n",
    "    }\n",
    "\n",
    "bam.files = list.files(path = \"./\", pattern = 'MeanDP.txt')\n",
    "for (file in bam.files){\n",
    "    seq = strsplit(file, \".filtered.sorted.deduped_MeanDP.txt\")[[1]][1]\n",
    "    seq = strsplit(seq, \"_S\")[[1]][1]\n",
    "    names = read.csv(\"../RD1Sequencing_SampleKey.csv\")\n",
    "    names = names %>%\n",
    "        filter(AdmName == seq) \n",
    "    new.name = as.character(names$Name)\n",
    "    new.name = paste0(new.name, '.MeanDP.txt')\n",
    "    file.rename(file, new.name)\n",
    "    }\n",
    "\n"
   ]
  },
  {
   "cell_type": "code",
   "execution_count": 43,
   "metadata": {
    "collapsed": true
   },
   "outputs": [],
   "source": [
    "library(tidyverse)\n",
    "library(data.table)\n",
    "setwd('~/dpetrov/MarkB/Orchard2020Data/04_HAFs/')\n",
    "\n",
    "tpts = c(0, 1, 2, 3, 4, 5)\n",
    "\n",
    "\n",
    "for (tp in tpts){\n",
    "    data = data.frame()\n",
    "    files = list.files(pattern=paste0(\"TP\",tpt,\"_\"), full.names=TRUE, recursive=FALSE)\n",
    "    }\n"
   ]
  },
  {
   "cell_type": "code",
   "execution_count": 61,
   "metadata": {
    "collapsed": true
   },
   "outputs": [],
   "source": [
    "##Get unfiltered RData -- Run on Cluster\n",
    "\n",
    "library(tidyverse)\n",
    "library(data.table)\n",
    "setwd('~/dpetrov/MarkB/Orchard2020Data/04_HAFs/')\n",
    "\n",
    "tpts = c(0, 1, 2, 3, 4, 5)\n",
    "\n",
    "\n",
    "for (tp in tpts){\n",
    "    data = data.frame()\n",
    "    files = list.files(pattern=paste0(\"TP\",tp,\"_\"), full.names=TRUE, recursive=FALSE)\n",
    "    data = data.frame()\n",
    "    for (file in files){\n",
    "    clean.file <- strsplit(file, \"./\")[[1]][2]\n",
    "    full.sample.name <- strsplit(clean.file, \"_downsampled\")[[1]][1]\n",
    "    chr <- strsplit(clean.file, \"[.]\")[[1]][3] #extract chrom info\n",
    "    freqs <- fread(file, header = TRUE)\n",
    "    freqs = freqs %>%\n",
    "        mutate(sample.name = full.sample.name) %>%\n",
    "        mutate(chrom = chr)\n",
    "    freqs = freqs %>%\n",
    "        dplyr::select(sample.name, chrom, pos, af)\n",
    "    data = rbind(data, freqs)\n",
    "    }\n",
    "    sp.data = data %>%\n",
    "        spread(sample.name, af)\n",
    "    sp.data = na.omit(sp.data)\n",
    "\n",
    "    sites = as.data.frame(sp.data %>%\n",
    "        dplyr::select(chrom, pos))\n",
    "    colnames(sites) = c('chrom', 'pos')\n",
    "\n",
    "    samps = as.data.frame(colnames(sp.data)[3:ncol(sp.data)])\n",
    "    colnames(samps) = c('sample.name')\n",
    "\n",
    "    afmat = as.matrix(sp.data[,3:ncol(sp.data)])\n",
    "    samps = samps %>% rowwise() %>%\n",
    "        rename(full.sample.name = sample.name) %>%\n",
    "        mutate(tpt = strsplit(strsplit(as.character(full.sample.name), '[_]')[[1]][1], \"TP\")[[1]][2]) %>%\n",
    "        mutate(treatment = strsplit(as.character(full.sample.name), '[_]')[[1]][2]) %>%\n",
    "        mutate(cage = strsplit(as.character(full.sample.name), '[_]')[[1]][3])\n",
    "    save(sites, samps, afmat, file = paste0(\"../RData/orch2020.\",tp , \".RData\"))\n",
    "}\n",
    "\n",
    "\n",
    "setwd('~/dpetrov/MarkB/Orchard2020Data/RData/')\n",
    "files <- c('orch2020.0.RData', 'orch2020.1.RData', 'orch2020.2.RData', 'orch2020.3.RData', 'orch2020.4.RData', 'orch2020.5.RData')\n",
    "\n",
    "\n",
    "chrom = c(\"2L\", \"2R\", \"3L\", \"3R\", \"X\")\n",
    "pos = NA\n",
    "af.meta = as.data.frame(cbind(chrom, pos))\n",
    "af.meta$pos = as.integer(af.meta$pos)\n",
    "samps.meta = data.frame()\n",
    "\n",
    "for (file in files){\n",
    "    load(file)\n",
    "    df.samps = samps\n",
    "    df.af = cbind(sites, afmat)\n",
    "    af.meta = right_join(af.meta, df.af)\n",
    "    samps.meta = rbind(samps.meta, df.samps)\n",
    "}\n",
    "\n",
    "\n",
    "afmat = na.omit(af.meta)\n",
    "sites = afmat[,c(1:2)]\n",
    "afmat = afmat[,-c(1:2)]\n",
    "samps = samps.meta\n",
    "\n",
    "save(afmat, sites, samps, file = \"./orch2020_Unfiltered_META.RData\")\n",
    "\n",
    "\n",
    "    "
   ]
  },
  {
   "cell_type": "code",
   "execution_count": 143,
   "metadata": {
    "collapsed": true
   },
   "outputs": [],
   "source": [
    "##Generate EEC and add to RData\n",
    "##Eec for time point samples   \n",
    "source(\"/home/users/mcbitter/OrchardProject/Code/workflow_functions.R\")\n",
    "source(\"/home/users/mcbitter/OrchardProject/Code/general_cage_functions.R\")\n",
    "setwd('~/dpetrov/MarkB/Orchard2020Data/RData/')"
   ]
  },
  {
   "cell_type": "code",
   "execution_count": 144,
   "metadata": {},
   "outputs": [
    {
     "data": {
      "text/html": [
       "<style>\n",
       ".list-inline {list-style: none; margin:0; padding: 0}\n",
       ".list-inline>li {display: inline-block}\n",
       ".list-inline>li:not(:last-child)::after {content: \"\\00b7\"; padding: 0 .5ex}\n",
       "</style>\n",
       "<ol class=list-inline><li>2608556</li><li>2</li></ol>\n"
      ],
      "text/latex": [
       "\\begin{enumerate*}\n",
       "\\item 2608556\n",
       "\\item 2\n",
       "\\end{enumerate*}\n"
      ],
      "text/markdown": [
       "1. 2608556\n",
       "2. 2\n",
       "\n",
       "\n"
      ],
      "text/plain": [
       "[1] 2608556       2"
      ]
     },
     "metadata": {},
     "output_type": "display_data"
    },
    {
     "data": {
      "text/html": [
       "<style>\n",
       ".list-inline {list-style: none; margin:0; padding: 0}\n",
       ".list-inline>li {display: inline-block}\n",
       ".list-inline>li:not(:last-child)::after {content: \"\\00b7\"; padding: 0 .5ex}\n",
       "</style>\n",
       "<ol class=list-inline><li>98</li><li>4</li></ol>\n"
      ],
      "text/latex": [
       "\\begin{enumerate*}\n",
       "\\item 98\n",
       "\\item 4\n",
       "\\end{enumerate*}\n"
      ],
      "text/markdown": [
       "1. 98\n",
       "2. 4\n",
       "\n",
       "\n"
      ],
      "text/plain": [
       "[1] 98  4"
      ]
     },
     "metadata": {},
     "output_type": "display_data"
    },
    {
     "data": {
      "text/html": [
       "<style>\n",
       ".list-inline {list-style: none; margin:0; padding: 0}\n",
       ".list-inline>li {display: inline-block}\n",
       ".list-inline>li:not(:last-child)::after {content: \"\\00b7\"; padding: 0 .5ex}\n",
       "</style>\n",
       "<ol class=list-inline><li>2608556</li><li>98</li></ol>\n"
      ],
      "text/latex": [
       "\\begin{enumerate*}\n",
       "\\item 2608556\n",
       "\\item 98\n",
       "\\end{enumerate*}\n"
      ],
      "text/markdown": [
       "1. 2608556\n",
       "2. 98\n",
       "\n",
       "\n"
      ],
      "text/plain": [
       "[1] 2608556      98"
      ]
     },
     "metadata": {},
     "output_type": "display_data"
    }
   ],
   "source": [
    "load('./orch2020_Unfiltered_META.RData')\n",
    "dim(sites)\n",
    "dim(samps)\n",
    "dim(afmat)"
   ]
  },
  {
   "cell_type": "code",
   "execution_count": 85,
   "metadata": {},
   "outputs": [
    {
     "name": "stderr",
     "output_type": "stream",
     "text": [
      "\u001b[1m\u001b[22mJoining, by = \"tpt\"\n"
     ]
    }
   ],
   "source": [
    "##Generate EEC and add to RData\n",
    "##Eec for time point samples   \n",
    "source(\"/home/users/mcbitter/OrchardProject/Code/workflow_functions.R\")\n",
    "source(\"/home/users/mcbitter/OrchardProject/Code/general_cage_functions.R\")\n",
    "setwd('~/dpetrov/MarkB/Orchard2020Data/MeanChromDP_Downsampled/')\n",
    "\n",
    "#load(\"./orch2020.RData\")\n",
    "load(\"../RData/orch2020_Unfiltered_META.RData\")\n",
    "\n",
    "pct.missing = fread('../../Orchard2021Data/founders/inbredv2.filtered.Orch21.PctMissing.csv')\n",
    "gens =  as.data.frame(cbind(c(0, 1, 2, 3, 4, 5), c(4, 6, 8, 10, 12, 14))) \n",
    "names(gens) = c(\"tpt\", \"gens\")\n",
    "\n",
    "gens = gens %>%\n",
    "    mutate(tpt = as.character(tpt))\n",
    "\n",
    "chroms = c(\"2L\", \"2R\", \"3L\", \"3R\", \"X\")\n",
    "n.snps = c(nrow(filter(sites, chrom == \"2L\")), nrow(filter(sites, chrom == \"2R\")), nrow(filter(sites, chrom == \"3L\")), nrow(filter(sites, chrom == \"3R\")), nrow(filter(sites, chrom == \"X\")))\n",
    "chrom_length <- 23000000\n",
    "recomb_rate <- 0.0000000239\n",
    "\n",
    "files <- list.files(pattern=\"*MeanChromDP*\", full.names = TRUE, recursive=FALSE)\n",
    "\n",
    "##EEC matrix generation\n",
    "#files <- list.files(pattern=\"*MeanChromDP*\", full.names = TRUE, recursive=FALSE)\n",
    "data <- data.frame()\n",
    "for (file in files){\n",
    "    clean.file <- strsplit(file, \"./\")[[1]][2]\n",
    "    full.sample.name <- strsplit(clean.file, \".MeanChromDP.txt\")[[1]][1]\n",
    "    chrom.dp = read.csv(file)\n",
    "    chrom.dp$sample = full.sample.name\n",
    "    chrom.dp = chrom.dp %>%\n",
    "        dplyr::select(sample, chrom, mean_dp) \n",
    "    data = rbind(data, chrom.dp)\n",
    "}\n",
    "data = data %>% mutate(sample = if_else(sample == \"A-0-1\" , 'A1-0' , sample)) %>%\n",
    "    mutate(sample = if_else(sample == \"A-0-2\" , 'A2-0' , sample)) %>%\n",
    "    mutate(sample = if_else(sample == \"B-0-1\" , 'B1-0' , sample)) %>%\n",
    "    mutate(sample = if_else(sample == \"B-0-2\" , 'B2-0' , sample)) \n",
    "\n",
    "\n",
    "data = data %>% rowwise() %>% mutate(tpt = strsplit(strsplit(sample, '[_]')[[1]][1], 'TP')[[1]][2]) %>%  rowwise() %>% \n",
    "                    mutate(treatment = strsplit(sample, '[_]')[[1]][2]) %>% \n",
    "                    mutate(cage = strsplit(sample, '[_]')[[1]][3]) %>%\n",
    "                    mutate(sample = strsplit(sample, '_down')[[1]][1]) %>%\n",
    "    dplyr::select(sample, chrom, mean_dp, tpt)\n",
    "\n",
    "data = left_join(data, gens)\n",
    "snps = as.data.frame(rep(n.snps, length(unique(data$sample))))\n",
    "pct.missing = as.data.frame(rep(pct.missing$pct, length(unique(data$sample))))\n",
    "\n",
    "d = cbind(snps, pct.missing)\n",
    "names(d) = c('num.snps', 'pct.missing')\n",
    "\n",
    "data$num.snps = d$num.snps\n",
    "data$pct.missing = d$pct.missing\n",
    "\n",
    "data = data %>% mutate(chrom.length = chrom_length,\n",
    "           recomb.rate = recomb_rate)\n"
   ]
  },
  {
   "cell_type": "code",
   "execution_count": 89,
   "metadata": {
    "collapsed": true
   },
   "outputs": [],
   "source": [
    "data = data %>% rowwise() %>%\n",
    "    mutate(eec = calc_expected_ec(mean_dp, gens, pct.missing, num.snps, chrom.length, recomb.rate))"
   ]
  },
  {
   "cell_type": "code",
   "execution_count": 90,
   "metadata": {
    "collapsed": true
   },
   "outputs": [],
   "source": [
    "sp.data = data %>%\n",
    "    dplyr::select(sample, chrom, eec) %>%\n",
    "    spread(sample, eec)\n",
    "sp.data = sp.data %>%\n",
    "    mutate(n.times = as.numeric(as.character(n.snps)))\n",
    "sp.data = as.data.frame(lapply(sp.data, rep, sp.data$n.times))\n",
    "eec.sites = sp.data %>%\n",
    "    dplyr::select(chrom)\n",
    "sp.data = sp.data %>%\n",
    "    dplyr::select(-c(chrom, n.times))\n",
    "eec.samps = as.data.frame(names(sp.data))\n",
    "eec = sp.data"
   ]
  },
  {
   "cell_type": "code",
   "execution_count": 92,
   "metadata": {
    "collapsed": true
   },
   "outputs": [],
   "source": [
    "save(sites, samps, eec, afmat, file = \"../RData/orch2020_Unfiltered_META.RData\")"
   ]
  },
  {
   "cell_type": "code",
   "execution_count": 2,
   "metadata": {
    "collapsed": true
   },
   "outputs": [],
   "source": [
    "setwd('~/dpetrov/MarkB/Orchard2020Data/')\n",
    "#load(\"./RData/orch2020_Unfiltered_META.RData\")"
   ]
  },
  {
   "cell_type": "code",
   "execution_count": 20,
   "metadata": {
    "collapsed": true
   },
   "outputs": [],
   "source": [
    "#Filter RData\n",
    "setwd('~/dpetrov/MarkB/Orchard2020Data/')\n",
    "load(\"./RData/orch2020_Unfiltered_META.RData\")\n",
    "df.meta = cbind(sites, afmat)\n",
    "\n",
    "df.meta = df.meta %>%\n",
    "    rename(baseA.1 = TP0_A_1, baseA.2 = TP0_A_2, baseB.1 = TP0_B_1, baseB.2 = TP0_B_2) %>%\n",
    "    mutate(af.baseA.mean = (rowMeans(dplyr::select(., starts_with(\"baseA\")), na.rm = TRUE))) %>%\n",
    "        filter(af.baseA.mean > 0.02 & af.baseA.mean < 0.98) %>%\n",
    "    mutate(af.baseB.mean = (rowMeans(dplyr::select(., starts_with(\"baseB\")), na.rm = TRUE))) %>%\n",
    "        filter(af.baseB.mean > 0.02 & af.baseB.mean < 0.98) %>%\n",
    "    filter(if_any(contains(\"_B_\"), ~ . > 0.01), if_any(contains(\"_B_\"), ~ . < 0.99)) %>%\n",
    "   filter(if_any(contains(\"_A_\"), ~ . > 0.01), if_any(contains(\"_A_\"), ~ . < 0.99)) %>%\n",
    "   filter(if_any(contains(\"_M_\"), ~ . > 0.01), if_any(contains(\"_M_\"), ~ . < 0.99))\n",
    "\n",
    "df.meta = df.meta %>% mutate(snp = paste0(chrom, pos))\n",
    "\n",
    "\n",
    "load(\"./RData/orch2020_Unfiltered_META.RData\")\n",
    "df.eec = cbind(sites, eec)\n",
    "df.eec = df.eec %>% mutate(snp = paste0(chrom, pos)) %>% filter(snp %in% df.meta$snp) %>% dplyr::select(-snp)\n",
    "\n",
    "sites = df.meta %>% dplyr::select(chrom, pos) %>% mutate(snp = paste0(chrom, pos))\n",
    "sites.base = df.meta %>% dplyr::select(chrom, pos)\n",
    "\n",
    "eec = df.eec %>% dplyr::select(-chrom, -pos)\n",
    "\n",
    "eec.base = eec %>% dplyr::select(TP0_A_1, TP0_A_2, TP0_B_1, TP0_B_2)\n",
    "eec = eec %>% dplyr::select(-TP0_A_1, -TP0_A_2, -TP0_B_1, -TP0_B_2)\n",
    "\n",
    "\n",
    "samps = as.data.frame(samps)\n",
    "samps.base = samps %>% filter(tpt == 0)\n",
    "samps = samps %>% filter(tpt != 0)\n",
    "\n",
    "afmat.base =  df.meta %>% dplyr::select(baseA.1, baseA.2, baseB.1, baseB.2, af.baseA.mean,  af.baseB.mean)\n",
    "afmat = df.meta %>% dplyr::select(-chrom, -pos, -baseA.1, -baseA.2, -baseB.1, -baseB.2, -af.baseA.mean,  -af.baseB.mean)\n",
    "afmat = afmat %>% dplyr::select(-snp)\n",
    "\n",
    "save(sites, samps, afmat, eec, file = './RData/orch2020_META.RData')\n",
    "save(sites.base, samps.base, afmat.base, eec.base, file = './RData/orch2020_Baseline.RData')\n"
   ]
  },
  {
   "cell_type": "code",
   "execution_count": 23,
   "metadata": {
    "collapsed": true
   },
   "outputs": [],
   "source": [
    "save(sites, samps, afmat, eec, file = './RData/orch2020_META.RData')\n"
   ]
  },
  {
   "cell_type": "code",
   "execution_count": 30,
   "metadata": {
    "collapsed": true
   },
   "outputs": [],
   "source": [
    "load('./RData/orch2020_META.RData')"
   ]
  },
  {
   "cell_type": "code",
   "execution_count": 31,
   "metadata": {
    "collapsed": true
   },
   "outputs": [],
   "source": [
    "##Now filter out replicate sample\n",
    "load('./RData/orch2020_META.RData')\n",
    "afmat = afmat %>% dplyr::select(-contains('rep'))\n",
    "eec = eec %>% dplyr::select(-contains('rep'))\n",
    "samps = samps %>% filter(full.sample.name != 'TP4_rep_B_2' )\n",
    "save(sites, samps, afmat, eec, file = './RData/orch2020.RData')\n"
   ]
  },
  {
   "cell_type": "code",
   "execution_count": 33,
   "metadata": {
    "collapsed": true
   },
   "outputs": [],
   "source": [
    "save(sites, samps, afmat, eec, file = './RData/orch2020.RData')\n"
   ]
  },
  {
   "cell_type": "code",
   "execution_count": 34,
   "metadata": {},
   "outputs": [
    {
     "data": {
      "text/html": [
       "<table class=\"dataframe\">\n",
       "<caption>A data.frame: 6 × 93</caption>\n",
       "<thead>\n",
       "\t<tr><th></th><th scope=col>TP1_A_1</th><th scope=col>TP1_A_2</th><th scope=col>TP1_A_3</th><th scope=col>TP1_A_4</th><th scope=col>TP1_A_5</th><th scope=col>TP1_A_6</th><th scope=col>TP1_B_1</th><th scope=col>TP1_B_2</th><th scope=col>TP1_B_3</th><th scope=col>TP1_B_4</th><th scope=col>⋯</th><th scope=col>TP5_M_10</th><th scope=col>TP5_M_11</th><th scope=col>TP5_M_12</th><th scope=col>TP5_M_2</th><th scope=col>TP5_M_4</th><th scope=col>TP5_M_5</th><th scope=col>TP5_M_6</th><th scope=col>TP5_M_7</th><th scope=col>TP5_M_8</th><th scope=col>TP5_M_9</th></tr>\n",
       "\t<tr><th></th><th scope=col>&lt;dbl&gt;</th><th scope=col>&lt;dbl&gt;</th><th scope=col>&lt;dbl&gt;</th><th scope=col>&lt;dbl&gt;</th><th scope=col>&lt;dbl&gt;</th><th scope=col>&lt;dbl&gt;</th><th scope=col>&lt;dbl&gt;</th><th scope=col>&lt;dbl&gt;</th><th scope=col>&lt;dbl&gt;</th><th scope=col>&lt;dbl&gt;</th><th scope=col>⋯</th><th scope=col>&lt;dbl&gt;</th><th scope=col>&lt;dbl&gt;</th><th scope=col>&lt;dbl&gt;</th><th scope=col>&lt;dbl&gt;</th><th scope=col>&lt;dbl&gt;</th><th scope=col>&lt;dbl&gt;</th><th scope=col>&lt;dbl&gt;</th><th scope=col>&lt;dbl&gt;</th><th scope=col>&lt;dbl&gt;</th><th scope=col>&lt;dbl&gt;</th></tr>\n",
       "</thead>\n",
       "<tbody>\n",
       "\t<tr><th scope=row>1</th><td>0.2854800</td><td>0.2723030</td><td>0.3443200</td><td>0.3459240</td><td>0.2909930</td><td>0.2877020</td><td>0.3728670</td><td>0.2865600</td><td>0.3219660</td><td>0.3714430</td><td>⋯</td><td>0.3264160</td><td>0.3766140</td><td>0.2499440</td><td>0.2699690</td><td>0.2439460</td><td>0.2834460</td><td>0.2876330</td><td>0.3004270</td><td>0.4071630</td><td>0.4153750</td></tr>\n",
       "\t<tr><th scope=row>2</th><td>0.0886827</td><td>0.0973779</td><td>0.0791934</td><td>0.0577434</td><td>0.0435717</td><td>0.0841457</td><td>0.1048830</td><td>0.0861780</td><td>0.0880590</td><td>0.0757646</td><td>⋯</td><td>0.0843025</td><td>0.0947001</td><td>0.0811560</td><td>0.0979313</td><td>0.0673213</td><td>0.1090850</td><td>0.0951207</td><td>0.0569195</td><td>0.1309440</td><td>0.1257180</td></tr>\n",
       "\t<tr><th scope=row>3</th><td>0.0225170</td><td>0.0251654</td><td>0.0242007</td><td>0.0262062</td><td>0.0211576</td><td>0.0309301</td><td>0.0302519</td><td>0.0336977</td><td>0.0330341</td><td>0.0324693</td><td>⋯</td><td>0.0195586</td><td>0.0214203</td><td>0.0196381</td><td>0.0211412</td><td>0.0279914</td><td>0.0195230</td><td>0.0180805</td><td>0.0248730</td><td>0.0141759</td><td>0.0178859</td></tr>\n",
       "\t<tr><th scope=row>4</th><td>0.0651603</td><td>0.0592661</td><td>0.0611043</td><td>0.0431202</td><td>0.0313967</td><td>0.0606583</td><td>0.0797936</td><td>0.0653937</td><td>0.0590425</td><td>0.0574630</td><td>⋯</td><td>0.0645044</td><td>0.0757856</td><td>0.0644352</td><td>0.0761067</td><td>0.0535304</td><td>0.0851303</td><td>0.0774408</td><td>0.0479622</td><td>0.1060470</td><td>0.0998234</td></tr>\n",
       "\t<tr><th scope=row>5</th><td>0.2705470</td><td>0.2641450</td><td>0.3247350</td><td>0.3345880</td><td>0.2751080</td><td>0.2690100</td><td>0.3543450</td><td>0.2710870</td><td>0.3123820</td><td>0.3565130</td><td>⋯</td><td>0.3101700</td><td>0.3504320</td><td>0.2348660</td><td>0.2501780</td><td>0.2210490</td><td>0.2611230</td><td>0.2613900</td><td>0.2841200</td><td>0.3855280</td><td>0.3886240</td></tr>\n",
       "\t<tr><th scope=row>6</th><td>0.0614311</td><td>0.0585658</td><td>0.1026940</td><td>0.1393340</td><td>0.1082240</td><td>0.0737762</td><td>0.0674264</td><td>0.0552881</td><td>0.0833989</td><td>0.0844764</td><td>⋯</td><td>0.0918278</td><td>0.0979033</td><td>0.0700999</td><td>0.0515982</td><td>0.0648033</td><td>0.0606398</td><td>0.0703709</td><td>0.0619567</td><td>0.0828560</td><td>0.1476960</td></tr>\n",
       "</tbody>\n",
       "</table>\n"
      ],
      "text/latex": [
       "A data.frame: 6 × 93\n",
       "\\begin{tabular}{r|lllllllllllllllllllll}\n",
       "  & TP1\\_A\\_1 & TP1\\_A\\_2 & TP1\\_A\\_3 & TP1\\_A\\_4 & TP1\\_A\\_5 & TP1\\_A\\_6 & TP1\\_B\\_1 & TP1\\_B\\_2 & TP1\\_B\\_3 & TP1\\_B\\_4 & ⋯ & TP5\\_M\\_10 & TP5\\_M\\_11 & TP5\\_M\\_12 & TP5\\_M\\_2 & TP5\\_M\\_4 & TP5\\_M\\_5 & TP5\\_M\\_6 & TP5\\_M\\_7 & TP5\\_M\\_8 & TP5\\_M\\_9\\\\\n",
       "  & <dbl> & <dbl> & <dbl> & <dbl> & <dbl> & <dbl> & <dbl> & <dbl> & <dbl> & <dbl> & ⋯ & <dbl> & <dbl> & <dbl> & <dbl> & <dbl> & <dbl> & <dbl> & <dbl> & <dbl> & <dbl>\\\\\n",
       "\\hline\n",
       "\t1 & 0.2854800 & 0.2723030 & 0.3443200 & 0.3459240 & 0.2909930 & 0.2877020 & 0.3728670 & 0.2865600 & 0.3219660 & 0.3714430 & ⋯ & 0.3264160 & 0.3766140 & 0.2499440 & 0.2699690 & 0.2439460 & 0.2834460 & 0.2876330 & 0.3004270 & 0.4071630 & 0.4153750\\\\\n",
       "\t2 & 0.0886827 & 0.0973779 & 0.0791934 & 0.0577434 & 0.0435717 & 0.0841457 & 0.1048830 & 0.0861780 & 0.0880590 & 0.0757646 & ⋯ & 0.0843025 & 0.0947001 & 0.0811560 & 0.0979313 & 0.0673213 & 0.1090850 & 0.0951207 & 0.0569195 & 0.1309440 & 0.1257180\\\\\n",
       "\t3 & 0.0225170 & 0.0251654 & 0.0242007 & 0.0262062 & 0.0211576 & 0.0309301 & 0.0302519 & 0.0336977 & 0.0330341 & 0.0324693 & ⋯ & 0.0195586 & 0.0214203 & 0.0196381 & 0.0211412 & 0.0279914 & 0.0195230 & 0.0180805 & 0.0248730 & 0.0141759 & 0.0178859\\\\\n",
       "\t4 & 0.0651603 & 0.0592661 & 0.0611043 & 0.0431202 & 0.0313967 & 0.0606583 & 0.0797936 & 0.0653937 & 0.0590425 & 0.0574630 & ⋯ & 0.0645044 & 0.0757856 & 0.0644352 & 0.0761067 & 0.0535304 & 0.0851303 & 0.0774408 & 0.0479622 & 0.1060470 & 0.0998234\\\\\n",
       "\t5 & 0.2705470 & 0.2641450 & 0.3247350 & 0.3345880 & 0.2751080 & 0.2690100 & 0.3543450 & 0.2710870 & 0.3123820 & 0.3565130 & ⋯ & 0.3101700 & 0.3504320 & 0.2348660 & 0.2501780 & 0.2210490 & 0.2611230 & 0.2613900 & 0.2841200 & 0.3855280 & 0.3886240\\\\\n",
       "\t6 & 0.0614311 & 0.0585658 & 0.1026940 & 0.1393340 & 0.1082240 & 0.0737762 & 0.0674264 & 0.0552881 & 0.0833989 & 0.0844764 & ⋯ & 0.0918278 & 0.0979033 & 0.0700999 & 0.0515982 & 0.0648033 & 0.0606398 & 0.0703709 & 0.0619567 & 0.0828560 & 0.1476960\\\\\n",
       "\\end{tabular}\n"
      ],
      "text/markdown": [
       "\n",
       "A data.frame: 6 × 93\n",
       "\n",
       "| <!--/--> | TP1_A_1 &lt;dbl&gt; | TP1_A_2 &lt;dbl&gt; | TP1_A_3 &lt;dbl&gt; | TP1_A_4 &lt;dbl&gt; | TP1_A_5 &lt;dbl&gt; | TP1_A_6 &lt;dbl&gt; | TP1_B_1 &lt;dbl&gt; | TP1_B_2 &lt;dbl&gt; | TP1_B_3 &lt;dbl&gt; | TP1_B_4 &lt;dbl&gt; | ⋯ ⋯ | TP5_M_10 &lt;dbl&gt; | TP5_M_11 &lt;dbl&gt; | TP5_M_12 &lt;dbl&gt; | TP5_M_2 &lt;dbl&gt; | TP5_M_4 &lt;dbl&gt; | TP5_M_5 &lt;dbl&gt; | TP5_M_6 &lt;dbl&gt; | TP5_M_7 &lt;dbl&gt; | TP5_M_8 &lt;dbl&gt; | TP5_M_9 &lt;dbl&gt; |\n",
       "|---|---|---|---|---|---|---|---|---|---|---|---|---|---|---|---|---|---|---|---|---|---|\n",
       "| 1 | 0.2854800 | 0.2723030 | 0.3443200 | 0.3459240 | 0.2909930 | 0.2877020 | 0.3728670 | 0.2865600 | 0.3219660 | 0.3714430 | ⋯ | 0.3264160 | 0.3766140 | 0.2499440 | 0.2699690 | 0.2439460 | 0.2834460 | 0.2876330 | 0.3004270 | 0.4071630 | 0.4153750 |\n",
       "| 2 | 0.0886827 | 0.0973779 | 0.0791934 | 0.0577434 | 0.0435717 | 0.0841457 | 0.1048830 | 0.0861780 | 0.0880590 | 0.0757646 | ⋯ | 0.0843025 | 0.0947001 | 0.0811560 | 0.0979313 | 0.0673213 | 0.1090850 | 0.0951207 | 0.0569195 | 0.1309440 | 0.1257180 |\n",
       "| 3 | 0.0225170 | 0.0251654 | 0.0242007 | 0.0262062 | 0.0211576 | 0.0309301 | 0.0302519 | 0.0336977 | 0.0330341 | 0.0324693 | ⋯ | 0.0195586 | 0.0214203 | 0.0196381 | 0.0211412 | 0.0279914 | 0.0195230 | 0.0180805 | 0.0248730 | 0.0141759 | 0.0178859 |\n",
       "| 4 | 0.0651603 | 0.0592661 | 0.0611043 | 0.0431202 | 0.0313967 | 0.0606583 | 0.0797936 | 0.0653937 | 0.0590425 | 0.0574630 | ⋯ | 0.0645044 | 0.0757856 | 0.0644352 | 0.0761067 | 0.0535304 | 0.0851303 | 0.0774408 | 0.0479622 | 0.1060470 | 0.0998234 |\n",
       "| 5 | 0.2705470 | 0.2641450 | 0.3247350 | 0.3345880 | 0.2751080 | 0.2690100 | 0.3543450 | 0.2710870 | 0.3123820 | 0.3565130 | ⋯ | 0.3101700 | 0.3504320 | 0.2348660 | 0.2501780 | 0.2210490 | 0.2611230 | 0.2613900 | 0.2841200 | 0.3855280 | 0.3886240 |\n",
       "| 6 | 0.0614311 | 0.0585658 | 0.1026940 | 0.1393340 | 0.1082240 | 0.0737762 | 0.0674264 | 0.0552881 | 0.0833989 | 0.0844764 | ⋯ | 0.0918278 | 0.0979033 | 0.0700999 | 0.0515982 | 0.0648033 | 0.0606398 | 0.0703709 | 0.0619567 | 0.0828560 | 0.1476960 |\n",
       "\n"
      ],
      "text/plain": [
       "  TP1_A_1   TP1_A_2   TP1_A_3   TP1_A_4   TP1_A_5   TP1_A_6   TP1_B_1  \n",
       "1 0.2854800 0.2723030 0.3443200 0.3459240 0.2909930 0.2877020 0.3728670\n",
       "2 0.0886827 0.0973779 0.0791934 0.0577434 0.0435717 0.0841457 0.1048830\n",
       "3 0.0225170 0.0251654 0.0242007 0.0262062 0.0211576 0.0309301 0.0302519\n",
       "4 0.0651603 0.0592661 0.0611043 0.0431202 0.0313967 0.0606583 0.0797936\n",
       "5 0.2705470 0.2641450 0.3247350 0.3345880 0.2751080 0.2690100 0.3543450\n",
       "6 0.0614311 0.0585658 0.1026940 0.1393340 0.1082240 0.0737762 0.0674264\n",
       "  TP1_B_2   TP1_B_3   TP1_B_4   ⋯ TP5_M_10  TP5_M_11  TP5_M_12  TP5_M_2  \n",
       "1 0.2865600 0.3219660 0.3714430 ⋯ 0.3264160 0.3766140 0.2499440 0.2699690\n",
       "2 0.0861780 0.0880590 0.0757646 ⋯ 0.0843025 0.0947001 0.0811560 0.0979313\n",
       "3 0.0336977 0.0330341 0.0324693 ⋯ 0.0195586 0.0214203 0.0196381 0.0211412\n",
       "4 0.0653937 0.0590425 0.0574630 ⋯ 0.0645044 0.0757856 0.0644352 0.0761067\n",
       "5 0.2710870 0.3123820 0.3565130 ⋯ 0.3101700 0.3504320 0.2348660 0.2501780\n",
       "6 0.0552881 0.0833989 0.0844764 ⋯ 0.0918278 0.0979033 0.0700999 0.0515982\n",
       "  TP5_M_4   TP5_M_5   TP5_M_6   TP5_M_7   TP5_M_8   TP5_M_9  \n",
       "1 0.2439460 0.2834460 0.2876330 0.3004270 0.4071630 0.4153750\n",
       "2 0.0673213 0.1090850 0.0951207 0.0569195 0.1309440 0.1257180\n",
       "3 0.0279914 0.0195230 0.0180805 0.0248730 0.0141759 0.0178859\n",
       "4 0.0535304 0.0851303 0.0774408 0.0479622 0.1060470 0.0998234\n",
       "5 0.2210490 0.2611230 0.2613900 0.2841200 0.3855280 0.3886240\n",
       "6 0.0648033 0.0606398 0.0703709 0.0619567 0.0828560 0.1476960"
      ]
     },
     "metadata": {},
     "output_type": "display_data"
    }
   ],
   "source": [
    "head(afmat)"
   ]
  },
  {
   "cell_type": "code",
   "execution_count": 3,
   "metadata": {
    "collapsed": true
   },
   "outputs": [],
   "source": [
    "load('./RData/orch2020_BactTreats.RData')\n",
    "\n",
    "df = cbind(samps, t(afmat))\n",
    "df = df %>% filter(treatment == 'AT')\n",
    "df.eec = cbind(samps, t(eec))\n",
    "df.eec = df.eec %>% filter(treatment == 'AT')\n",
    "\n",
    "samps = df[,1:ncol(samps)]\n",
    "\n",
    "afmat = df[, -c(1:ncol(samps))]\n",
    "afmat = as.data.frame(t(afmat))\n",
    "\n",
    "eec = df.eec[, -c(1:ncol(samps))]\n",
    "eec = as.data.frame(t(eec))\n",
    "\n",
    "save(afmat, eec, sites, samps, file = './RData/orch2020_AT.RData')\n",
    "\n",
    "load('./RData/orch2020_BactTreats.RData')\n",
    "\n",
    "df = cbind(samps, t(afmat))\n",
    "df = df %>% filter(treatment == 'LB')\n",
    "df.eec = cbind(samps, t(eec))\n",
    "df.eec = df.eec %>% filter(treatment == 'LB')\n",
    "\n",
    "samps = df[,1:ncol(samps)]\n",
    "\n",
    "afmat = df[, -c(1:ncol(samps))]\n",
    "afmat = as.data.frame(t(afmat))\n",
    "\n",
    "eec = df.eec[, -c(1:ncol(samps))]\n",
    "eec = as.data.frame(t(eec))\n",
    "\n",
    "save(afmat, eec, sites, samps, file = './RData/orch2020_LB.RData')"
   ]
  },
  {
   "cell_type": "code",
   "execution_count": null,
   "metadata": {
    "collapsed": true
   },
   "outputs": [],
   "source": []
  }
 ],
 "metadata": {
  "kernelspec": {
   "display_name": "R",
   "language": "R",
   "name": "ir"
  },
  "language_info": {
   "codemirror_mode": "r",
   "file_extension": ".r",
   "mimetype": "text/x-r-source",
   "name": "R",
   "pygments_lexer": "r",
   "version": "3.5.1"
  }
 },
 "nbformat": 4,
 "nbformat_minor": 2
}
