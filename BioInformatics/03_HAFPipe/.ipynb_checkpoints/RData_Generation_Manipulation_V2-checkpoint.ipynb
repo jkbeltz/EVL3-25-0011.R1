{
 "cells": [
  {
   "cell_type": "code",
   "execution_count": null,
   "metadata": {
    "collapsed": true
   },
   "outputs": [],
   "source": [
    "##Code to generate and manipulate RData from HARP output from the Orch2021 SNPTable*********\n",
    "\n"
   ]
  },
  {
   "cell_type": "code",
   "execution_count": 1,
   "metadata": {},
   "outputs": [
    {
     "name": "stderr",
     "output_type": "stream",
     "text": [
      "── \u001b[1mAttaching packages\u001b[22m ─────────────────────────────────────── tidyverse 1.3.2 ──\n",
      "\u001b[32m✔\u001b[39m \u001b[34mggplot2\u001b[39m 3.3.6      \u001b[32m✔\u001b[39m \u001b[34mpurrr  \u001b[39m 0.3.5 \n",
      "\u001b[32m✔\u001b[39m \u001b[34mtibble \u001b[39m 3.1.8      \u001b[32m✔\u001b[39m \u001b[34mdplyr  \u001b[39m 1.0.10\n",
      "\u001b[32m✔\u001b[39m \u001b[34mtidyr  \u001b[39m 1.2.1      \u001b[32m✔\u001b[39m \u001b[34mstringr\u001b[39m 1.4.1 \n",
      "\u001b[32m✔\u001b[39m \u001b[34mreadr  \u001b[39m 2.1.3      \u001b[32m✔\u001b[39m \u001b[34mforcats\u001b[39m 0.5.2 \n",
      "── \u001b[1mConflicts\u001b[22m ────────────────────────────────────────── tidyverse_conflicts() ──\n",
      "\u001b[31m✖\u001b[39m \u001b[34mdplyr\u001b[39m::\u001b[32mbetween()\u001b[39m   masks \u001b[34mdata.table\u001b[39m::between()\n",
      "\u001b[31m✖\u001b[39m \u001b[34mdplyr\u001b[39m::\u001b[32mfilter()\u001b[39m    masks \u001b[34mstats\u001b[39m::filter()\n",
      "\u001b[31m✖\u001b[39m \u001b[34mdplyr\u001b[39m::\u001b[32mfirst()\u001b[39m     masks \u001b[34mdata.table\u001b[39m::first()\n",
      "\u001b[31m✖\u001b[39m \u001b[34mdplyr\u001b[39m::\u001b[32mlag()\u001b[39m       masks \u001b[34mstats\u001b[39m::lag()\n",
      "\u001b[31m✖\u001b[39m \u001b[34mdplyr\u001b[39m::\u001b[32mlast()\u001b[39m      masks \u001b[34mdata.table\u001b[39m::last()\n",
      "\u001b[31m✖\u001b[39m \u001b[34mpurrr\u001b[39m::\u001b[32mtranspose()\u001b[39m masks \u001b[34mdata.table\u001b[39m::transpose()\n"
     ]
    }
   ],
   "source": [
    "library(data.table)\n",
    "library(tidyverse)\n"
   ]
  },
  {
   "cell_type": "markdown",
   "metadata": {},
   "source": [
    "# BASELINE RDATA\n",
    "\n",
    "\n"
   ]
  },
  {
   "cell_type": "code",
   "execution_count": 3,
   "metadata": {
    "collapsed": true
   },
   "outputs": [],
   "source": [
    "###Code for ***DOWNSAMPLED**** baseline ###\n",
    "\n",
    "###AFmat, sites, samps\n",
    "setwd(\"/scratch/groups/dpetrov/MarkB/Orchard2021Data/04_HAFs_V2/Baseline\")\n",
    "\n",
    "\n",
    "files <- list.files(pattern=\"*.afSite\", full.names=TRUE, recursive=FALSE)\n",
    "\n",
    "data <- data.frame()\n",
    "for (file in files){\n",
    "    #Step 1 - eactract full sample name from each HAFpipe output file \n",
    "    clean.file <- strsplit(file, \"./\")[[1]][2]\n",
    "    full.sample.name <- strsplit(clean.file, \".bam\")[[1]][1]\n",
    "    chr <- strsplit(clean.file, \".afSite\")[[1]][1] #extract chrom info\n",
    "    chr <- strsplit(chr, \".bam.\")[[1]][2]\n",
    "    freqs <- read.csv(file, header = TRUE)\n",
    "    freqs = freqs %>%\n",
    "        mutate(sample.name = full.sample.name) %>%\n",
    "        mutate(chrom = chr)\n",
    "    freqs = freqs %>%\n",
    "        select(sample.name, chrom, pos, af)\n",
    "    data = rbind(data, freqs)\n",
    "}\n",
    "\n",
    "sp.data = data %>%\n",
    "    spread(sample.name, af)\n",
    "\n",
    "sp.data = na.omit(sp.data)\n",
    "\n",
    "sites = as.data.frame(sp.data %>%\n",
    "    dplyr::select(chrom, pos))\n",
    "colnames(sites) = c('chrom', 'pos')\n",
    "\n",
    "samps = as.data.frame(colnames(sp.data)[3:ncol(sp.data)])\n",
    "colnames(samps) = c('sample.name')\n",
    "\n",
    "afmat = as.matrix(sp.data[,3:ncol(sp.data)])\n",
    "\n",
    "save(sites, samps, afmat, file = \"../../RData_V2/orch2021_Baseline_Downsampled_V2.RData\")\n",
    "\n",
    "###EEC \n",
    "\n",
    "setwd('/home/users/mcbitter/dpetrov/MarkB/Orchard2021Data/03_bams/DP_AlignStats/Baseline')\n",
    "\n",
    "load('../../../RData_V2/orch2021_Baseline_Downsampled_V2.RData')\n",
    "pct.missing = fread('../../../founders/inbredv2.filtered.Orch21.PctMissing.csv')\n",
    "gens = fread('/home/users/mcbitter/OrchardProject/Code/Orchard2021_Scripts/BioInformatics/03_HAFPipe/HAF.params.csv')\n",
    "gens = 0\n",
    "chroms = c(\"2L\", \"2R\", \"3L\", \"3R\", \"X\")\n",
    "n.snps = c(nrow(filter(sites, chrom == \"2L\")), nrow(filter(sites, chrom == \"2R\")), nrow(filter(sites, chrom == \"3L\")), nrow(filter(sites, chrom == \"3R\")), nrow(filter(sites, chrom == \"X\")))\n",
    "chrom_length <- 23000000\n",
    "recomb_rate <- 0.0000000239\n",
    "\n",
    "\n",
    "#EEC function from S. Greenblum\n",
    "calc_expected_ec=function(rd,gen,pct_missing,nof_snps,chrom_length,recomb_rate){\n",
    "  \n",
    "#example input: rd=5,gen=20,pct_missing=2,nof_snps=283438\n",
    "# rd: actual read depth\n",
    "# gen: nof generations since population founding\n",
    "# pct_missing: percent of founder genotype calls that are missing (%, not a fraction)\n",
    "# nof_snps: average number of snps per chromosome\n",
    "# chrom_length: average length of a chromosome\n",
    "# recomb_rate: average recombination rate\n",
    "\n",
    "q=18\n",
    "\n",
    "mycoeffs=data.frame(a=0.5199118,b=-0.6909052,c=0.3553630)\n",
    "\n",
    "    \n",
    "winSize=round(qexp(q/100,1/((chrom_length)/((recomb_rate)*(chrom_length)*(gen)+1)))/1000)\n",
    "\n",
    "    \n",
    "nReadsPerWin=(rd)*(nof_snps)*(winSize)*1000/(chrom_length)\n",
    "\n",
    "    \n",
    "ec = 10^(mycoeffs$a * log10( nReadsPerWin ) + mycoeffs$b * log10(1+pct_missing) + mycoeffs$c )\n",
    "\n",
    "ec\n",
    "\n",
    "}\n",
    "\n",
    "\n",
    "##EEC matrix generation\n",
    "\n",
    "\n",
    "library(data.table)\n",
    "library(tidyverse)\n",
    "\n",
    "\n",
    "\n",
    "files <- list.files(pattern=\"*MeanChromDP*\", full.names = TRUE, recursive=FALSE)\n",
    "\n",
    "\n",
    "data <- data.frame()\n",
    "for (file in files){\n",
    "    clean.file <- strsplit(file, \"./\")[[1]][2]\n",
    "    full.sample.name <- strsplit(clean.file, \".MeanChromDP.txt\")[[1]][1]\n",
    "    chrom.dp = read.csv(file)\n",
    "    chrom.dp$sample = full.sample.name\n",
    "    chrom.dp = chrom.dp %>%\n",
    "        dplyr::select(sample, chrom, mean_dp)\n",
    "    data = rbind(data, chrom.dp)\n",
    "            \n",
    "}\n",
    "\n",
    "data = data %>% \n",
    "    mutate(num.snps = rep(as.numeric(as.character(n.snps)), length(unique(data$sample))),\n",
    "           pct.missing = rep(pct.missing$pct, length(unique(data$sample))),\n",
    "            chrom.length = chrom_length, \n",
    "           recomb.rate = recomb_rate,\n",
    "          gen = 0)\n",
    "\n",
    "data = data %>% rowwise() %>%\n",
    "    mutate(eec = calc_expected_ec(mean_dp, gen, pct.missing, num.snps, chrom.length, recomb.rate))\n",
    "\n",
    "sp.data = data %>%\n",
    "    select(sample, chrom, eec) %>%\n",
    "    spread(sample, eec)\n",
    "sp.data = sp.data %>%\n",
    "    mutate(n.times = as.numeric(as.character(n.snps)))\n",
    "sp.data = as.data.frame(lapply(sp.data, rep, sp.data$n.times))\n",
    "\n",
    "eec.sites = sp.data %>%\n",
    "    select(chrom)\n",
    "sp.data = sp.data %>%\n",
    "    dplyr::select(-c(chrom, n.times))\n",
    "\n",
    "eec.samps = as.data.frame(names(sp.data))\n",
    "\n",
    "\n",
    "eec.base = sp.data\n",
    "\n",
    "\n",
    "##adding eec matrix to orch 2021 baseline .RDATA\n",
    "setwd('../../../RData_V2/')\n",
    "load('./orch2021_Baseline_Downsampled_V2.RData')\n",
    "sites.base = sites\n",
    "samps.base = samps\n",
    "afmat.base = afmat\n",
    "save(sites.base, samps.base, afmat.base, eec.base, file = './orch2021_Baseline_Downsampled_V2.RData')\n",
    "\n"
   ]
  },
  {
   "cell_type": "code",
   "execution_count": 83,
   "metadata": {},
   "outputs": [
    {
     "name": "stdout",
     "output_type": "stream",
     "text": [
      "Loading objects:\n",
      "  sites.base\n",
      "  samps.base\n",
      "  afmat.base\n",
      "  eec.base\n"
     ]
    }
   ],
   "source": [
    "###comparing V1 Vs V2\n",
    "load('./orch2021_Baseline_Downsampled_V2_RAW.RData', verbose = TRUE)\n",
    "sites.base.v2 = sites.base\n",
    "\n",
    "v2 = cbind(sites.base.v2, afmat.base)\n",
    "v2 = v2 %>%\n",
    "    mutate(snp = paste0(chrom,\"_\", pos)) %>%\n",
    "    mutate(af.base.mean = (rowMeans(select(., starts_with(\"Orch\")), na.rm = TRUE)))"
   ]
  },
  {
   "cell_type": "code",
   "execution_count": 84,
   "metadata": {},
   "outputs": [
    {
     "name": "stdout",
     "output_type": "stream",
     "text": [
      "Loading objects:\n",
      "  sites.base\n",
      "  samps.base\n",
      "  afmat.base\n",
      "  eec.base\n"
     ]
    }
   ],
   "source": [
    "load('../RData/Baseline/orch2021_Baseline_Downsampled_RAW.RData', verbose = TRUE)\n",
    "sites.base.v1 = sites.base\n",
    "v1 = cbind(sites.base.v1, afmat.base)\n",
    "v1 = v1 %>%\n",
    "    mutate(snp = paste0(chrom, \"_\", pos)) %>%\n",
    "    mutate(af.base.mean = (rowMeans(select(., starts_with(\"Orch\")), na.rm = TRUE)))"
   ]
  },
  {
   "cell_type": "code",
   "execution_count": 34,
   "metadata": {
    "collapsed": true
   },
   "outputs": [],
   "source": [
    "#identify non-overlapping variants"
   ]
  },
  {
   "cell_type": "code",
   "execution_count": 85,
   "metadata": {
    "collapsed": true
   },
   "outputs": [],
   "source": [
    "non.overlap = setdiff(v1$snp, v2$snp)"
   ]
  },
  {
   "cell_type": "code",
   "execution_count": 75,
   "metadata": {
    "collapsed": true
   },
   "outputs": [],
   "source": [
    "v1.non = v1 %>%\n",
    "    filter(snp %in% non.overlap)"
   ]
  },
  {
   "cell_type": "code",
   "execution_count": 76,
   "metadata": {},
   "outputs": [
    {
     "data": {
      "text/html": [
       "<style>\n",
       ".list-inline {list-style: none; margin:0; padding: 0}\n",
       ".list-inline>li {display: inline-block}\n",
       ".list-inline>li:not(:last-child)::after {content: \"\\00b7\"; padding: 0 .5ex}\n",
       "</style>\n",
       "<ol class=list-inline><li>15443</li><li>8</li></ol>\n"
      ],
      "text/latex": [
       "\\begin{enumerate*}\n",
       "\\item 15443\n",
       "\\item 8\n",
       "\\end{enumerate*}\n"
      ],
      "text/markdown": [
       "1. 15443\n",
       "2. 8\n",
       "\n",
       "\n"
      ],
      "text/plain": [
       "[1] 15443     8"
      ]
     },
     "metadata": {},
     "output_type": "display_data"
    }
   ],
   "source": [
    "dim(v1.non %>% filter(af.base.mean > 0.02 & af.base.mean < 0.98))"
   ]
  },
  {
   "cell_type": "code",
   "execution_count": 77,
   "metadata": {
    "collapsed": true
   },
   "outputs": [],
   "source": [
    "v1.non = v1.non %>%\n",
    "    mutate(maf = ifelse(af.base.mean >= 0.5, 1-af.base.mean, af.base.mean))"
   ]
  },
  {
   "cell_type": "code",
   "execution_count": 78,
   "metadata": {},
   "outputs": [
    {
     "data": {
      "image/png": "[encoded data removed]",
      "text/plain": [
       "Plot with title “Histogram of v1.non$maf”"
      ]
     },
     "metadata": {
      "image/png": {
       "height": 420,
       "width": 420
      }
     },
     "output_type": "display_data"
    }
   ],
   "source": [
    "hist(v1.non$maf)"
   ]
  },
  {
   "cell_type": "code",
   "execution_count": 79,
   "metadata": {},
   "outputs": [
    {
     "data": {
      "text/html": [
       "0.00798504335648489"
      ],
      "text/latex": [
       "0.00798504335648489"
      ],
      "text/markdown": [
       "0.00798504335648489"
      ],
      "text/plain": [
       "[1] 0.007985043"
      ]
     },
     "metadata": {},
     "output_type": "display_data"
    },
    {
     "data": {
      "text/html": [
       "0.00548664"
      ],
      "text/latex": [
       "0.00548664"
      ],
      "text/markdown": [
       "0.00548664"
      ],
      "text/plain": [
       "[1] 0.00548664"
      ]
     },
     "metadata": {},
     "output_type": "display_data"
    }
   ],
   "source": [
    "mean(v1.non$maf)\n",
    "median(v1.non$maf)"
   ]
  },
  {
   "cell_type": "code",
   "execution_count": 80,
   "metadata": {},
   "outputs": [
    {
     "data": {
      "text/html": [
       "<strong>25%:</strong> 0.0033983375"
      ],
      "text/latex": [
       "\\textbf{25\\textbackslash{}\\%:} 0.0033983375"
      ],
      "text/markdown": [
       "**25%:** 0.0033983375"
      ],
      "text/plain": [
       "        25% \n",
       "0.003398338 "
      ]
     },
     "metadata": {},
     "output_type": "display_data"
    },
    {
     "data": {
      "text/html": [
       "<strong>50%:</strong> 0.00548664"
      ],
      "text/latex": [
       "\\textbf{50\\textbackslash{}\\%:} 0.00548664"
      ],
      "text/markdown": [
       "**50%:** 0.00548664"
      ],
      "text/plain": [
       "       50% \n",
       "0.00548664 "
      ]
     },
     "metadata": {},
     "output_type": "display_data"
    },
    {
     "data": {
      "text/html": [
       "<strong>75%:</strong> 0.008532339375"
      ],
      "text/latex": [
       "\\textbf{75\\textbackslash{}\\%:} 0.008532339375"
      ],
      "text/markdown": [
       "**75%:** 0.008532339375"
      ],
      "text/plain": [
       "        75% \n",
       "0.008532339 "
      ]
     },
     "metadata": {},
     "output_type": "display_data"
    },
    {
     "data": {
      "text/html": [
       "<strong>80%:</strong> 0.009640745"
      ],
      "text/latex": [
       "\\textbf{80\\textbackslash{}\\%:} 0.009640745"
      ],
      "text/markdown": [
       "**80%:** 0.009640745"
      ],
      "text/plain": [
       "        80% \n",
       "0.009640745 "
      ]
     },
     "metadata": {},
     "output_type": "display_data"
    },
    {
     "data": {
      "text/html": [
       "<strong>90%:</strong> 0.0139243525"
      ],
      "text/latex": [
       "\\textbf{90\\textbackslash{}\\%:} 0.0139243525"
      ],
      "text/markdown": [
       "**90%:** 0.0139243525"
      ],
      "text/plain": [
       "       90% \n",
       "0.01392435 "
      ]
     },
     "metadata": {},
     "output_type": "display_data"
    }
   ],
   "source": [
    "quantile(v1.non$maf,0.25)\n",
    "quantile(v1.non$maf,0.5)\n",
    "quantile(v1.non$maf,0.75)\n",
    "quantile(v1.non$maf,0.8)\n",
    "quantile(v1.non$maf,0.9)"
   ]
  },
  {
   "cell_type": "code",
   "execution_count": 66,
   "metadata": {
    "collapsed": true
   },
   "outputs": [],
   "source": [
    "load(\"../RData/Downsampled/orch2021_Downsampled_META_Filtered_MeanMAF01_ECage.RData\")"
   ]
  },
  {
   "cell_type": "code",
   "execution_count": 67,
   "metadata": {
    "collapsed": true
   },
   "outputs": [],
   "source": [
    "sites = sites %>%\n",
    "    mutate(snp = paste0(chrom, \"_\", pos))"
   ]
  },
  {
   "cell_type": "code",
   "execution_count": 82,
   "metadata": {},
   "outputs": [
    {
     "data": {
      "text/html": [
       "<style>\n",
       ".list-inline {list-style: none; margin:0; padding: 0}\n",
       ".list-inline>li {display: inline-block}\n",
       ".list-inline>li:not(:last-child)::after {content: \"\\00b7\"; padding: 0 .5ex}\n",
       "</style>\n",
       "<ol class=list-inline><li>64806</li><li>3</li></ol>\n"
      ],
      "text/latex": [
       "\\begin{enumerate*}\n",
       "\\item 64806\n",
       "\\item 3\n",
       "\\end{enumerate*}\n"
      ],
      "text/markdown": [
       "1. 64806\n",
       "2. 3\n",
       "\n",
       "\n"
      ],
      "text/plain": [
       "[1] 64806     3"
      ]
     },
     "metadata": {},
     "output_type": "display_data"
    }
   ],
   "source": [
    "dim(sites %>% filter(snp %in% v1.non$snp))"
   ]
  },
  {
   "cell_type": "code",
   "execution_count": 100,
   "metadata": {},
   "outputs": [],
   "source": [
    "#Comparing non-overlapping to significan sites from one comparison\n",
    "#Mean MAF > 0.01 filtering of baseline and 1 evolved sample with maf > 0.01\n",
    "\n",
    "\n",
    "chroms=c(\"2L\",\"2R\",\"3L\",\"3R\",\"X\")\n",
    "cages=1:12\n",
    "timesegs=c(\"Timepoint 1 --> 2\", \"Timepoint 2 --> 3\")\n",
    "colorScheme=c(\"BH-FDR<.2\"=\"lightgray\",\n",
    "              \"BH-FDR<.05,\\neffect-size>2%\"=\"coral\",\n",
    "              \"BH-FDR<.01,\\neffect-size>2%\"=\"red\")\n",
    "\n",
    "## parameters\n",
    "fdrThreshs=c(.2,.05,.01) ## maximum fdr-corrected pvalue for difference in allele frequency between treatments for a site to be considered significantly diverged\n",
    "esThreshs=c(0,0.02,0.02) ## minimum mean allele frequency difference between treatments for a site to be considered significantly diverged (combined with p-value)\n",
    "windowSize=500\n",
    "windowShift=100\n",
    "maxClusterGap=100\n",
    "linkageThresh=0.03\n",
    "maxSNPPairDist=3000000\n",
    "poolSize=100\n",
    "\n",
    "source(\"/home/users/mcbitter/OrchardProject/Code/config.R\")\n",
    "source(\"/home/users/mcbitter/OrchardProject/Code/helper_functions.R\")\n",
    "source(\"/home/users/mcbitter/OrchardProject/Code/load_packages.R\")\n",
    "source(\"/home/users/mcbitter/OrchardProject/Code/plotting_functions.R\")\n",
    "source(\"/home/users/mcbitter/OrchardProject/Code/workflow_functions.R\")\n",
    "source(\"/home/users/mcbitter/OrchardProject/Code/general_cage_functions.R\")\n",
    "\n",
    "\n",
    "setwd('/scratch/groups/dpetrov/MarkB/Orchard2021Data/05_GLM/')\n",
    "comparisons=c(\"2_8\")\n",
    "HAFsFile = \"../RData/Downsampled/orch2021_Downsampled_META_Filtered_MeanMAF01_ECage.RData\"\n",
    "glmFile = \"./TestMeanMAF.glm.2021.RData\"\n",
    "\n",
    "\n",
    "\n",
    "#####load GLM data\n",
    "load(glmFile)\n",
    "sites=df.glm %>% dplyr::select(chrom,pos)\n",
    "\n",
    "#######get af shifts in cages\n",
    "load(HAFsFile)\n",
    "af.shifts <- get_af_shifts(afmat, samps,cage_set=NULL, comparisons)\n",
    "\n",
    "#######get FDR corrected p-values\n",
    "FDR=get_glm_FDR(df.glm,comparisons)\n",
    "\n",
    "#########classify sites\n",
    "df.sig <- get_sig_sites(df.glm, comparisons, FDR, afShifts = af.shifts, fdrThreshs, esThreshs)\n",
    "df.sig = df.sig %>%\n",
    "    mutate(snp = paste0(chrom, \"_\", pos))\n"
   ]
  },
  {
   "cell_type": "code",
   "execution_count": 104,
   "metadata": {},
   "outputs": [
    {
     "name": "stderr",
     "output_type": "stream",
     "text": [
      "Warning message:\n",
      "“Removed 37 rows containing missing values (geom_point).”\n"
     ]
    },
    {
     "data": {
      "image/png": "[encoded data removed]",
      "text/plain": [
       "plot without title"
      ]
     },
     "metadata": {
      "image/png": {
       "height": 420,
       "width": 420
      }
     },
     "output_type": "display_data"
    }
   ],
   "source": [
    "dim(df.sig)\n",
    "dim(nonover.sig)\n",
    "dim(nonover.sig %>%\n",
    "    filter(sigLevel > 1))\n",
    "new.df.sig = (df.sig %>%\n",
    "       filter(!snp %in% non.overlap))\n",
    "\n",
    "new.df.sig <- new.df.sig %>% mutate(sigLabel=as.factor(sigLevel),compLabel = as.factor(comparison))\n",
    "\n",
    "gg <- new.df.sig %>% ggplot(aes(x=pos/1000000))+ theme_minimal() + lims(y=c(0,20))  +\n",
    "    facet_grid(compLabel ~ chrom,scales=\"free_x\", switch=\"y\") + \n",
    "    theme(legend.position = \"top\",strip.text = element_text(size=16),strip.text.y = element_text(size=10)) +\n",
    "    labs(x=\"Position (Mb)\",y=\"-log10(FDR-corrected p-value)\") +\n",
    "    suppressWarnings(geom_point(aes(y=-log10(FDR),color=sigLabel),alpha=.8,size=1)) +\n",
    "    scale_colour_manual(values = c('grey', 'orange', 'red'))\n",
    "gg"
   ]
  },
  {
   "cell_type": "markdown",
   "metadata": {},
   "source": [
    "# Time point RDATA (run on cluster)\n",
    "\n",
    "\n"
   ]
  },
  {
   "cell_type": "code",
   "execution_count": 54,
   "metadata": {
    "collapsed": true
   },
   "outputs": [],
   "source": [
    "###Time point, downsampled bams - run on cluster as 03C_Get_tp_RData_Downsamped.sbatch \n",
    "##Full bams run using 03C_Get_tp_RData.sbatch \n",
    "\n",
    "\n",
    "library(data.table)\n",
    "library(tidyverse)\n",
    "\n",
    "tpts = c(1:11, 13)\n",
    "for (tpt in tpts){\n",
    "    data = data.frame()\n",
    "    setwd(\"/home/users/mcbitter/dpetrov/MarkB/Orchard2021Data/04_HAFs/Downsamped/\")\n",
    "    files <- list.files(pattern=paste0(\"tp\",tpt,\"_\"), full.names=TRUE, recursive=FALSE)\n",
    "    for (file in files){\n",
    "    #Step 1 - eactract full sample name from each HAFpipe output file \n",
    "    clean.file <- strsplit(file, \"./\")[[1]][2]\n",
    "    full.sample.name <- strsplit(clean.file, \".bam\")[[1]][1]\n",
    "    chr <- strsplit(clean.file, \".afSite\")[[1]][1] #extract chrom info\n",
    "    chr <- strsplit(chr, \".bam.\")[[1]][2]\n",
    "    freqs <- read.csv(file, header = TRUE)\n",
    "    freqs = freqs %>%\n",
    "        mutate(sample.name = full.sample.name) %>%\n",
    "        mutate(chrom = chr)\n",
    "    freqs = freqs %>%\n",
    "        select(sample.name, chrom, pos, af)\n",
    "    data = rbind(data, freqs)        \n",
    "    }\n",
    "    sp.data = data %>%\n",
    "        spread(sample.name, af)\n",
    "\n",
    "#####sp.data = na.omit(sp.data)#####not doing this until after treatments segregated\n",
    "\n",
    "    sites = as.data.frame(sp.data %>%\n",
    "    dplyr::select(chrom, pos))\n",
    "    colnames(sites) = c('chrom', 'pos')\n",
    "\n",
    "    samps = as.data.frame(colnames(sp.data)[3:ncol(sp.data)])\n",
    "    colnames(samps) = c('sample.name')\n",
    "\n",
    "    afmat = as.matrix(sp.data[,3:ncol(sp.data)])\n",
    "\n",
    "    save(sites, samps, afmat, file = paste0(\"../../RData/orch2021_Downsampled_tp\",tpt,\".RData\"))\n",
    "}\n",
    "\n",
    "##joining TP .RData - run on cluster as 03D_JoinTpRData_downsampled.sbatch/R\n",
    "library(tidyverse)\n",
    "library(data.table)\n",
    "\n",
    "setwd(\"/home/users/mcbitter/dpetrov/MarkB/Orchard2021Data/RData/\")\n",
    "files <- list.files(pattern=\"*_tp*\", full.names=TRUE, recursive=FALSE)\n",
    "\n",
    "\n",
    "chrom = c(\"2L\", \"2R\", \"3L\", \"3R\", \"X\")\n",
    "pos = NA\n",
    "af.meta = as.data.frame(cbind(chrom, pos))\n",
    "af.meta$pos = as.integer(af.meta$pos)\n",
    "samps.meta = data.frame()\n",
    "\n",
    "for (file in files){\n",
    "    load(file)\n",
    "    df.samps = samps\n",
    "    df.af = cbind(sites, afmat)\n",
    "    af.meta = right_join(af.meta, df.af)\n",
    "    samps.meta = rbind(samps.meta, df.samps)\n",
    "}\n",
    "\n",
    "\n",
    "afmat = na.omit(af.meta)\n",
    "sites = afmat[,c(1:2)]\n",
    "afmat = afmat[,-c(1:2)]\n",
    "samps = samps.meta\n",
    "\n",
    "save(afmat, sites, samps, \"./orch2021_Downsampled.RData\")\n",
    "\n",
    "\n"
   ]
  },
  {
   "cell_type": "code",
   "execution_count": null,
   "metadata": {
    "collapsed": true
   },
   "outputs": [],
   "source": [
    "##Eec for time point Downsampled samples   ****Real code run on cluster: 02E_ComputeEEC_Downsampled.sbatch\n",
    "##Full samples run on cluster with 02E_ComputeEEC.sbatch\n",
    "\n",
    "\n",
    "libary('data.table')\n",
    "library('tidyverse')\n",
    "\n",
    "setwd('/home/users/mcbitter/dpetrov/MarkB/Orchard2021Data/03_bams/DP_AlignStats')\n",
    "\n",
    "load(\"../../RData_V2/orch2021_Downsampled_META_RAW_V2.RData\")\n",
    "\n",
    "pct.missing = fread('../../founders/inbredv2.filtered.Orch21.PctMissing.csv')\n",
    "gens = fread('/home/users/mcbitter/OrchardProject/Code/Orchard2021_Scripts/BioInformatics/03_HAFPipe/HAF.params.csv')\n",
    "colnames(gens) = c('tpt', 'gens')\n",
    "gens = gens %>%\n",
    "    mutate(tpt = as.character(tpt))\n",
    "chroms = c(\"2L\", \"2R\", \"3L\", \"3R\", \"X\")\n",
    "\n",
    "n.snps = c(nrow(filter(sites, chrom == \"2L\")), nrow(filter(sites, chrom == \"2R\")), nrow(filter(sites, chrom == \"3L\")), nrow(filter(sites, chrom == \"3R\")), nrow(filter(sites, chrom == \"X\")))\n",
    "\n",
    "chrom_length <- 23000000\n",
    "recomb_rate <- 0.0000000239\n",
    "\n",
    "\n",
    "#EEC function from S. Greenblum\n",
    "calc_expected_ec=function(rd,gen,pct_missing,nof_snps,chrom_length,recomb_rate){\n",
    "  \n",
    "#example input: rd=5,gen=20,pct_missing=2,nof_snps=283438\n",
    "# rd: actual read depth\n",
    "# gen: nof generations since population founding\n",
    "# pct_missing: percent of founder genotype calls that are missing (%, not a fraction)\n",
    "# nof_snps: average number of snps per chromosome\n",
    "# chrom_length: average length of a chromosome\n",
    "# recomb_rate: average recombination rate\n",
    "\n",
    "q=18\n",
    "\n",
    "mycoeffs=data.frame(a=0.5199118,b=-0.6909052,c=0.3553630)\n",
    "\n",
    "    \n",
    "winSize=round(qexp(q/100,1/((chrom_length)/((recomb_rate)*(chrom_length)*(gen)+1)))/1000)\n",
    "\n",
    "    \n",
    "nReadsPerWin=(rd)*(nof_snps)*(winSize)*1000/(chrom_length)\n",
    "\n",
    "    \n",
    "ec = 10^(mycoeffs$a * log10( nReadsPerWin ) + mycoeffs$b * log10(1+pct_missing) + mycoeffs$c )\n",
    "\n",
    "ec\n",
    "\n",
    "}\n",
    "\n",
    "\n",
    "##EEC matrix generation\n",
    "\n",
    "\n",
    "library(data.table)\n",
    "library(tidyverse)\n",
    "\n",
    "\n",
    "\n",
    "files <- list.files(pattern=\"*MeanChromDP*\", full.names = TRUE, recursive=FALSE)\n",
    "\n",
    "\n",
    "data <- data.frame()\n",
    "for (file in files){\n",
    "    clean.file <- strsplit(file, \"./\")[[1]][2]\n",
    "    full.sample.name <- strsplit(clean.file, \".MeanChromDP.txt\")[[1]][1]\n",
    "    chrom.dp = read.csv(file)\n",
    "    chrom.dp$sample = full.sample.name\n",
    "    chrom.dp = chrom.dp %>%\n",
    "        dplyr::select(sample, chrom, mean_dp)\n",
    "    data = rbind(data, chrom.dp)\n",
    "            \n",
    "}\n",
    "\n",
    "samps.ext = samps\n",
    "samps.ext$n.times = 5\n",
    "samps.ext = as.data.frame(lapply(samps.ext, rep, samps.ext$n.times))\n",
    "samps.ext = as.data.frame(samps.ext[,-2])\n",
    "colnames(samps.ext) = \"sample\"\n",
    "samps.ext = samps.ext %>%\n",
    "    mutate(sample = as.character(sample))\n",
    "data = data[order(match(data[,1],samps.ext[,1])),]\n",
    "\n",
    "\n",
    "data = data %>%\n",
    "    separate(sample, into = c(\"TP\" , NA), sep = \"_F1\", remove = FALSE) %>%\n",
    "    separate(TP, into = c(NA, 'tpt'), sep = \"tp\")\n",
    "data = left_join(data, gens)\n",
    "data = data %>% \n",
    "    mutate(num.snps = rep(as.numeric(as.character(n.snps)), length(unique(data$sample))),\n",
    "           pct.missing = rep(pct.missing$pct, length(unique(data$sample))),\n",
    "            chrom.length = chrom_length, \n",
    "           recomb.rate = recomb_rate)\n",
    "\n",
    "data = data %>% rowwise() %>%\n",
    "    mutate(eec = calc_expected_ec(mean_dp, gens, pct.missing, num.snps, chrom.length, recomb.rate))\n",
    "\n",
    "\n",
    "sp.data = data %>%\n",
    "    select(sample, chrom, eec) %>%\n",
    "    spread(sample, eec)\n",
    "sp.data = sp.data %>%\n",
    "    mutate(n.times = as.numeric(as.character(n.snps)))\n",
    "sp.data = as.data.frame(lapply(sp.data, rep, sp.data$n.times))\n",
    "\n",
    "eec.sites = sp.data %>%\n",
    "    select(chrom)\n",
    "sp.data = sp.data %>%\n",
    "    dplyr::select(-c(chrom, n.times))\n",
    "\n",
    "eec.samps = as.data.frame(names(sp.data))\n",
    "\n",
    "\n",
    "eec = sp.data\n",
    "\n",
    "setwd('/home/users/mcbitter/dpetrov/MarkB/Orchard2021Data/RData_V2')\n",
    "load('./orch2021_Downsampled_META_RAW_V2.RData', verbose = TRUE)\n",
    "save(sites, samps, afmat, eec, file = './orch2021_Downsampled_META_RAW_V2.RData')"
   ]
  },
  {
   "cell_type": "markdown",
   "metadata": {},
   "source": [
    "# RDATA manipulation and subsetting"
   ]
  },
  {
   "cell_type": "code",
   "execution_count": 43,
   "metadata": {},
   "outputs": [
    {
     "name": "stdout",
     "output_type": "stream",
     "text": [
      "Loading objects:\n",
      "  samps\n",
      "  sites\n",
      "  afmat\n",
      "  eec\n"
     ]
    }
   ],
   "source": [
    "#First, need to modify samps file to make columns for all pertinent variables\n",
    "\n",
    "setwd('/scratch/groups/dpetrov/MarkB/Orchard2021Data/RData/Downsampled/')\n",
    "load('orch2021_Downsampled_META.RData', verbose = TRUE)\n",
    "\n",
    "\n",
    "#Starting with downsampled files\n",
    "df = samps\n",
    "df = df %>%\n",
    "    separate(sample.name, into = c(\"tpt\",NA), sep = \"_F1\", remove = FALSE) %>%\n",
    "    separate(tpt, into = c(NA, 'tpt'), sep = 'tp')\n",
    "df = df %>%\n",
    "    separate(sample.name, into = c(NA, 'cage'), sep = \"F1_\", remove = FALSE) %>%\n",
    "    separate(cage, into = c('cage', 'seq.rep'), sep = \"_\", extra = \"merge\")\n",
    "df = df %>%\n",
    "    mutate(treatment = substr(cage, 1, 1))\n",
    "df = df %>%\n",
    "    separate(seq.rep, into = c('seq.rep', 'down'), sep = \"down\")\n",
    "biol.reps = df %>%\n",
    "    filter(grepl('rep', seq.rep))\n",
    "tech.reps = df %>%\n",
    "    filter(grepl('Rd', seq.rep))\n",
    "df = df %>% mutate(biol.rep = ifelse(sample.name %in% biol.reps$sample.name, yes = \"Yes\", no = \"No\"))\n",
    "df = df %>% mutate(tech.rep = ifelse(sample.name %in% tech.reps$sample.name, yes = \"Yes\", no = \"No\"))\n",
    "df = df %>%\n",
    "    rename(full.sample.name = sample.name)\n",
    "df$tp = \"tp\"\n",
    "df = df %>% rowwise() %>%\n",
    "    mutate(sample = paste0(tp, tpt, \"_\", cage)) %>%\n",
    "    dplyr::select(-c(down, tp, )) %>%\n",
    "    dplyr::select(full.sample.name, sample, tpt, treatment, biol.rep, tech.rep)\n",
    "df = df %>%\n",
    "        mutate(Side = \n",
    "        if_else(cage %in% c(\"E1\", \"E2\", \"E3\", \"E4\", \"E5\", \"E6\"), \"West\", \"East\"))\n",
    "samps = df\n",
    "\n",
    "\n",
    "save(samps, sites, afmat, eec, file = 'orch2021_Downsampled_META_RAW_V2.RData')"
   ]
  },
  {
   "cell_type": "code",
   "execution_count": null,
   "metadata": {
    "collapsed": true
   },
   "outputs": [],
   "source": [
    "###FILTERING Downsampled Files - run on cluster as 03F_FilterRData_Downsampled.sbatch\n",
    "\n",
    "setwd('/scratch/groups/dpetrov/MarkB/Orchard2021Data/RData/')\n",
    "library(tidyverse)\n",
    "load('./Baseline/orch2021_Baseline_Downsampled.RData', verbose = TRUE)\n",
    "load('./Downsampled/orch2021_Downsampled_META.RData', verbose = TRUE)\n",
    "\n",
    "#Combine baseline and time point samples\n",
    "##Filter so that across all samples, one sample has a HAF > 0.01\n",
    "df.base = cbind(sites.base, afmat.base)\n",
    "df.base.eec = cbind(sites.base, eec.base)\n",
    "df.tps = cbind(sites, afmat)\n",
    "df.eec = cbind(sites, eec)\n",
    "\n",
    "df.meta = left_join(df.tps, df.base)\n",
    "df.meta = na.omit(df.meta)\n",
    "\n",
    "df.meta = df.meta %>%\n",
    "    select(-contains(\"rep\")) %>%#exclude biol rep cages\n",
    "    select(-contains(\"Rd\")) %>% #exclude tech rep cages\n",
    "    filter(if_any(contains(\"_E\"), ~ . > 0.01), if_any(contains(\"_E\"), ~ . < 0.99)) %>%\n",
    "   filter(if_any(contains(\"_I\"), ~ . > 0.01), if_any(contains(\"_I\"), ~ . < 0.99)) %>%\n",
    "   filter(if_any(contains(\"_P\"), ~ . > 0.01), if_any(contains(\"_P\"), ~ . < 0.99))\n",
    "\n",
    "meta.sites = df.meta %>% dplyr::select(chrom, pos) %>%\n",
    "    mutate(snp = paste0(chrom, \"_\", pos))\n",
    "\n",
    "\n",
    "eec.base = df.base.eec %>%\n",
    "    mutate(snp = paste0(chrom, \"_\", pos)) %>%\n",
    "    filter(snp %in% meta.sites$snp)%>%\n",
    "    select(-c(chrom, pos, snp))\n",
    "\n",
    "afmat.base =  df.base %>%\n",
    "    mutate(snp = paste0(chrom, \"_\", pos))%>%\n",
    "    filter(snp %in% meta.sites$snp)%>%\n",
    "    select(-c(chrom, pos, snp))\n",
    "\n",
    "eec = df.eec %>%\n",
    "    mutate(snp = paste0(chrom, \"_\", pos)) %>%\n",
    "    filter(snp %in% meta.sites$snp)%>%\n",
    "    select(-c(chrom, pos, snp))\n",
    "\n",
    "afmat = df.tps %>%\n",
    "    mutate(snp = paste0(chrom, \"_\", pos))%>%\n",
    "    filter(snp %in% meta.sites$snp) %>%\n",
    "    select(-c(chrom, pos, snp))\n",
    "\n",
    "sites.base = meta.sites %>% select(-snp)\n",
    "sites = meta.sites %>% select(-snp)\n",
    "\n",
    "save(samps.base, sites.base, afmat.base, eec.base, file = './Baseline/orch2021_Baseline_Downsampled_Filtered.RData')\n",
    "save(samps, sites, afmat, eec, file = './Downsampled/orch2021_Downsampled_META_Filtered.RData')\n"
   ]
  },
  {
   "cell_type": "code",
   "execution_count": 1,
   "metadata": {},
   "outputs": [
    {
     "name": "stderr",
     "output_type": "stream",
     "text": [
      "── \u001b[1mAttaching packages\u001b[22m ─────────────────────────────────────── tidyverse 1.3.1 ──\n",
      "\n",
      "\u001b[32m✔\u001b[39m \u001b[34mggplot2\u001b[39m 3.3.6     \u001b[32m✔\u001b[39m \u001b[34mpurrr  \u001b[39m 0.3.4\n",
      "\u001b[32m✔\u001b[39m \u001b[34mtibble \u001b[39m 3.1.7     \u001b[32m✔\u001b[39m \u001b[34mdplyr  \u001b[39m 1.0.9\n",
      "\u001b[32m✔\u001b[39m \u001b[34mtidyr  \u001b[39m 1.2.0     \u001b[32m✔\u001b[39m \u001b[34mstringr\u001b[39m 1.4.0\n",
      "\u001b[32m✔\u001b[39m \u001b[34mreadr  \u001b[39m 2.1.2     \u001b[32m✔\u001b[39m \u001b[34mforcats\u001b[39m 0.5.1\n",
      "\n",
      "── \u001b[1mConflicts\u001b[22m ────────────────────────────────────────── tidyverse_conflicts() ──\n",
      "\u001b[31m✖\u001b[39m \u001b[34mdplyr\u001b[39m::\u001b[32mfilter()\u001b[39m masks \u001b[34mstats\u001b[39m::filter()\n",
      "\u001b[31m✖\u001b[39m \u001b[34mdplyr\u001b[39m::\u001b[32mlag()\u001b[39m    masks \u001b[34mstats\u001b[39m::lag()\n",
      "\n",
      "\n",
      "Attaching package: ‘matrixStats’\n",
      "\n",
      "\n",
      "The following object is masked from ‘package:dplyr’:\n",
      "\n",
      "    count\n",
      "\n",
      "\n"
     ]
    }
   ],
   "source": [
    "setwd('/scratch/groups/dpetrov/MarkB/Orchard2021Data/RData/')\n",
    "library(tidyverse)\n",
    "library(matrixStats)"
   ]
  },
  {
   "cell_type": "code",
   "execution_count": 8,
   "metadata": {},
   "outputs": [
    {
     "data": {
      "text/html": [
       "<style>\n",
       ".list-inline {list-style: none; margin:0; padding: 0}\n",
       ".list-inline>li {display: inline-block}\n",
       ".list-inline>li:not(:last-child)::after {content: \"\\00b7\"; padding: 0 .5ex}\n",
       "</style>\n",
       "<ol class=list-inline><li>100</li><li>3</li></ol>\n"
      ],
      "text/latex": [
       "\\begin{enumerate*}\n",
       "\\item 100\n",
       "\\item 3\n",
       "\\end{enumerate*}\n"
      ],
      "text/markdown": [
       "1. 100\n",
       "2. 3\n",
       "\n",
       "\n"
      ],
      "text/plain": [
       "[1] 100   3"
      ]
     },
     "metadata": {},
     "output_type": "display_data"
    },
    {
     "name": "stderr",
     "output_type": "stream",
     "text": [
      "Warning message in merge.data.frame(sites.filt.meta, sites.filt, by = \"snp\"):\n",
      "“column names ‘chrom.x’, ‘pos.x’, ‘chrom.y’, ‘pos.y’ are duplicated in the result”\n"
     ]
    },
    {
     "data": {
      "text/html": [
       "<style>\n",
       ".list-inline {list-style: none; margin:0; padding: 0}\n",
       ".list-inline>li {display: inline-block}\n",
       ".list-inline>li:not(:last-child)::after {content: \"\\00b7\"; padding: 0 .5ex}\n",
       "</style>\n",
       "<ol class=list-inline><li>43</li><li>9</li></ol>\n"
      ],
      "text/latex": [
       "\\begin{enumerate*}\n",
       "\\item 43\n",
       "\\item 9\n",
       "\\end{enumerate*}\n"
      ],
      "text/markdown": [
       "1. 43\n",
       "2. 9\n",
       "\n",
       "\n"
      ],
      "text/plain": [
       "[1] 43  9"
      ]
     },
     "metadata": {},
     "output_type": "display_data"
    }
   ],
   "source": [
    "#Alternative Filtering (V2) -- Filter so that across all samples MAF > 0.01\n",
    "##ran as 03F_FilterRDataV2_Downsampled.sbatch on cluster\n",
    "\n",
    "setwd('/scratch/groups/dpetrov/MarkB/Orchard2021Data/RData/')\n",
    "library(tidyverse)\n",
    "library(matrixStats)\n",
    "treatments = c(\"E\", \"P\", \"I\")\n",
    "\n",
    "\n",
    "load('./Downsampled/orch2021_Downsampled_META_RAW.RData')\n",
    "sites.filt.meta = sites %>% mutate(snp = paste0(chrom, \"_\", pos))\n",
    "dim(sites.filt.meta)\n",
    "for (treat in treatments){\n",
    "    load('./Downsampled/orch2021_Downsampled_META_RAW.RData')\n",
    "    df = cbind(samps, t(afmat))\n",
    "    df = df %>% filter(treatment == treat)\n",
    "    df = df[,-(1:ncol(samps))]\n",
    "    df = t(df)\n",
    "    df = cbind(sites, df)\n",
    "    df = df %>% \n",
    "         select(-contains(\"rep\")) %>% \n",
    "        select(-contains(\"Rd\")) \n",
    "    df = df %>% mutate(min.af = rowMins(as.matrix(df[,3:ncol(df)])))\n",
    "    df = df %>% mutate(max.af = rowMaxs(as.matrix(df[,3:ncol(df)])))\n",
    "    df.filt = df %>% \n",
    "        filter(min.af > 0.01) %>%\n",
    "        filter(max.af < 0.99)\n",
    "    sites.filt = df.filt[,c(1:2)]\n",
    "    sites.filt = sites.filt %>% mutate(snp = paste0(chrom, \"_\", pos)) \n",
    "    sites.filt.meta = merge(sites.filt.meta, sites.filt, by = \"snp\")\n",
    "    \n",
    "}\n",
    "\n",
    "sites.filt.meta = sites.filt.meta[,c(1:3)] \n",
    "colnames(sites.filt.meta) = c('snp','chrom', 'pos')\n",
    "\n",
    "load('./Downsampled/orch2021_Downsampled_META_RAW.RData')\n",
    "load('./Baseline/orch2021_Baseline_Downsampled_RAW.RData')\n",
    "\n",
    "afmat = cbind(sites, afmat) %>% mutate(snp = paste0(chrom, \"_\", pos)) %>%\n",
    "    filter(snp %in% sites.filt.meta$snp) %>% dplyr::select(-chrom, -pos, -snp)\n",
    "eec = cbind(sites, eec) %>% mutate(snp = paste0(chrom, \"_\", pos)) %>%\n",
    "    filter(snp %in% sites.filt.meta$snp) %>% dplyr::select(-chrom, -pos, -snp)\n",
    "\n",
    "\n",
    "afmat.base = cbind(sites.base, afmat.base) %>% mutate(snp = paste0(chrom, \"_\", pos)) %>%\n",
    "    filter(snp %in% sites.filt.meta$snp) %>% dplyr::select(-chrom, -pos, -snp)\n",
    "eec.base = cbind(sites.base, eec.base) %>% mutate(snp = paste0(chrom, \"_\", pos)) %>%\n",
    "    filter(snp %in% sites.filt.meta$snp) %>% dplyr::select(-chrom, -pos, -snp)\n",
    "\n",
    "sites = sites.filt.meta[,c(2:3)]\n",
    "sites.base = sites.filt.meta[,c(2:3)]\n",
    "\n",
    "\n",
    "save(sites, samps, afmat, samps, eec, file = \"./Downsampled/orch2021_Downsampled_META_FilteredV2.RData\")\n",
    "save(sites.base, samps.base, afmat.base, samps.base, eec.base file = \"./Baseline/orch2021_Baseline_Downsampled_FilteredV2.RData\")"
   ]
  },
  {
   "cell_type": "markdown",
   "metadata": {
    "collapsed": true
   },
   "source": [
    "# Generating Treatment-specific RData files"
   ]
  },
  {
   "cell_type": "code",
   "execution_count": 5,
   "metadata": {
    "collapsed": true
   },
   "outputs": [],
   "source": [
    "###Downsampled RData\n",
    "setwd('/scratch/groups/dpetrov/MarkB/Orchard2021Data/RData/Downsampled/')\n",
    "library(tidyverse)"
   ]
  },
  {
   "cell_type": "code",
   "execution_count": 15,
   "metadata": {},
   "outputs": [
    {
     "name": "stdout",
     "output_type": "stream",
     "text": [
      "Loading objects:\n",
      "  sites\n",
      "  samps\n",
      "  afmat\n",
      "  eec\n"
     ]
    }
   ],
   "source": [
    "load('./orch2021_Downsampled_META_Filtered.RData', verbose = TRUE)\n",
    "library(tidyverse)\n"
   ]
  },
  {
   "cell_type": "code",
   "execution_count": 16,
   "metadata": {},
   "outputs": [
    {
     "name": "stderr",
     "output_type": "stream",
     "text": [
      "Warning message:\n",
      "“Expected 5 pieces. Additional pieces discarded in 25 rows [28, 41, 47, 54, 55, 58, 66, 69, 72, 77, 83, 125, 128, 129, 144, 153, 190, 202, 215, 249, ...].”\n",
      "Warning message:\n",
      "“Expected 5 pieces. Missing pieces filled with `NA` in 259 rows [1, 2, 3, 4, 5, 6, 7, 8, 9, 10, 11, 12, 13, 14, 15, 16, 17, 18, 19, 20, ...].”\n"
     ]
    }
   ],
   "source": [
    "samps = samps %>%\n",
    "    separate(sample, into = c(NA, \"cage\") , sep = \"_\", remove = FALSE)\n",
    "samps = samps %>%\n",
    "    mutate(tpt = if_else(tpt == \"13\", \"12\", tpt))\n",
    "samps = samps %>%\n",
    "    separate(full.sample.name, into = c(NA, NA, NA, \"test\", NA), sep = \"_\", remove = FALSE) %>%\n",
    "    mutate(tech.rep = if_else(test == \"TechRep\", \"Yes\", tech.rep)) %>%\n",
    "    dplyr::select(-test)"
   ]
  },
  {
   "cell_type": "code",
   "execution_count": 17,
   "metadata": {
    "collapsed": true
   },
   "outputs": [],
   "source": [
    "save(samps, sites, eec, afmat, file = \"./orch2021_Downsampled_META_Filtered.RData\")"
   ]
  },
  {
   "cell_type": "code",
   "execution_count": 1,
   "metadata": {},
   "outputs": [
    {
     "name": "stderr",
     "output_type": "stream",
     "text": [
      "── \u001b[1mAttaching packages\u001b[22m ─────────────────────────────────────── tidyverse 1.3.1 ──\n",
      "\n",
      "\u001b[32m✔\u001b[39m \u001b[34mggplot2\u001b[39m 3.3.6     \u001b[32m✔\u001b[39m \u001b[34mpurrr  \u001b[39m 0.3.4\n",
      "\u001b[32m✔\u001b[39m \u001b[34mtibble \u001b[39m 3.1.7     \u001b[32m✔\u001b[39m \u001b[34mdplyr  \u001b[39m 1.0.9\n",
      "\u001b[32m✔\u001b[39m \u001b[34mtidyr  \u001b[39m 1.2.0     \u001b[32m✔\u001b[39m \u001b[34mstringr\u001b[39m 1.4.0\n",
      "\u001b[32m✔\u001b[39m \u001b[34mreadr  \u001b[39m 2.1.2     \u001b[32m✔\u001b[39m \u001b[34mforcats\u001b[39m 0.5.1\n",
      "\n",
      "── \u001b[1mConflicts\u001b[22m ────────────────────────────────────────── tidyverse_conflicts() ──\n",
      "\u001b[31m✖\u001b[39m \u001b[34mdplyr\u001b[39m::\u001b[32mfilter()\u001b[39m masks \u001b[34mstats\u001b[39m::filter()\n",
      "\u001b[31m✖\u001b[39m \u001b[34mdplyr\u001b[39m::\u001b[32mlag()\u001b[39m    masks \u001b[34mstats\u001b[39m::lag()\n",
      "\n"
     ]
    },
    {
     "name": "stdout",
     "output_type": "stream",
     "text": [
      "Loading objects:\n",
      "  samps\n",
      "  sites\n",
      "  eec\n",
      "  afmat\n"
     ]
    }
   ],
   "source": [
    "##Getting E Cage .RData\n",
    "setwd('/scratch/groups/dpetrov/MarkB/Orchard2021Data/RData/Downsampled/')\n",
    "library(tidyverse)\n",
    "\n",
    "load('./orch2021_Downsampled_META_Filtered.RData', verbose = TRUE)"
   ]
  },
  {
   "cell_type": "code",
   "execution_count": null,
   "metadata": {
    "collapsed": true
   },
   "outputs": [],
   "source": [
    "load('./orch2021_Downsampled_META_Filtered_MeanMAF02.RData', verbose = TRUE)\n",
    "df = cbind(samps, t(afmat))\n",
    "df.eec = cbind(samps, t(eec))\n",
    "df = df %>%\n",
    "    filter(biol.rep == \"No\" & tech.rep == \"No\" & treatment == \"E\")\n",
    "samps = df[,1:ncol(samps)]\n",
    "afmat = df[,-(1:ncol(samps))]\n",
    "afmat = t(afmat)\n",
    "\n",
    "df.eec = df.eec %>%\n",
    "    filter(biol.rep == \"No\" & tech.rep == \"No\" & treatment == \"E\")\n",
    "eec = df.eec[,-(1:ncol(samps))]\n",
    "eec = t(eec)\n",
    "\n",
    "save(sites, samps, afmat, eec, file = \"orch2021_Downsampled_META_Filtered_MeanMAF02_ECage.RData\")\n",
    "\n",
    "load('orch2021_Downsampled_META_Filtered_MeanMAF02_ECage.RData')"
   ]
  },
  {
   "cell_type": "code",
   "execution_count": null,
   "metadata": {},
   "outputs": [
    {
     "name": "stderr",
     "output_type": "stream",
     "text": [
      "── \u001b[1mAttaching packages\u001b[22m ─────────────────────────────────────── tidyverse 1.3.1 ──\n",
      "\n",
      "\u001b[32m✔\u001b[39m \u001b[34mggplot2\u001b[39m 3.3.6     \u001b[32m✔\u001b[39m \u001b[34mpurrr  \u001b[39m 0.3.4\n",
      "\u001b[32m✔\u001b[39m \u001b[34mtibble \u001b[39m 3.1.7     \u001b[32m✔\u001b[39m \u001b[34mdplyr  \u001b[39m 1.0.9\n",
      "\u001b[32m✔\u001b[39m \u001b[34mtidyr  \u001b[39m 1.2.0     \u001b[32m✔\u001b[39m \u001b[34mstringr\u001b[39m 1.4.0\n",
      "\u001b[32m✔\u001b[39m \u001b[34mreadr  \u001b[39m 2.1.2     \u001b[32m✔\u001b[39m \u001b[34mforcats\u001b[39m 0.5.1\n",
      "\n",
      "── \u001b[1mConflicts\u001b[22m ────────────────────────────────────────── tidyverse_conflicts() ──\n",
      "\u001b[31m✖\u001b[39m \u001b[34mdplyr\u001b[39m::\u001b[32mfilter()\u001b[39m masks \u001b[34mstats\u001b[39m::filter()\n",
      "\u001b[31m✖\u001b[39m \u001b[34mdplyr\u001b[39m::\u001b[32mlag()\u001b[39m    masks \u001b[34mstats\u001b[39m::lag()\n",
      "\n"
     ]
    },
    {
     "name": "stdout",
     "output_type": "stream",
     "text": [
      "Loading objects:\n",
      "  samps\n",
      "  sites\n",
      "  eec\n",
      "  afmat\n"
     ]
    }
   ],
   "source": [
    "##Getting E Cage .RData - Run on cluster in SubsetRData.R\n",
    "setwd('/scratch/groups/dpetrov/MarkB/Orchard2021Data/RData/Downsampled/')\n",
    "library(tidyverse)\n",
    "\n",
    "load('./orch2021_Downsampled_META_Filtered.RData', verbose = TRUE)\n",
    "df = cbind(samps, t(afmat))\n",
    "df.eec = cbind(samps, t(eec))\n",
    "df = df %>%\n",
    "    filter(biol.rep == \"No\" & tech.rep == \"No\" & treatment == \"E\")\n",
    "samps = df[,1:ncol(samps)]\n",
    "afmat = df[,-(1:ncol(samps))]\n",
    "afmat = t(afmat)\n",
    "\n",
    "df.eec = df.eec %>%\n",
    "    filter(biol.rep == \"No\" & tech.rep == \"No\" & treatment == \"E\")\n",
    "eec = df.eec[,-(1:ncol(samps))]\n",
    "eec = t(eec)\n",
    "\n",
    "save(sites, samps, afmat, eec, file = \"orch2021_Downsampled_ECage.RData\")"
   ]
  },
  {
   "cell_type": "code",
   "execution_count": 1,
   "metadata": {
    "collapsed": true
   },
   "outputs": [],
   "source": [
    "#subset of E cage Rdata \n",
    "\n",
    "setwd('/scratch/groups/dpetrov/MarkB/Orchard2021Data/RData/Downsampled/')\n",
    "load(\"orch2021_Downsampled_ECage.RData\")"
   ]
  },
  {
   "cell_type": "code",
   "execution_count": 4,
   "metadata": {
    "collapsed": true
   },
   "outputs": [],
   "source": [
    "afmat = afmat[1:100,]\n",
    "sites = sites[1:00,]\n",
    "eec = eec[1:100,]\n",
    "save(afmat, sites, samps, eec, file = \"orch2021_Downsampled_ECage_SUB.RData\")"
   ]
  },
  {
   "cell_type": "code",
   "execution_count": 1,
   "metadata": {
    "collapsed": true
   },
   "outputs": [],
   "source": [
    "#subset of Meta r data \n",
    "\n",
    "setwd('/scratch/groups/dpetrov/MarkB/Orchard2021Data/RData/Downsampled/')\n",
    "load(\"orch2021_Downsampled_META_Filtered.RData\")\n",
    "\n",
    "afmat = afmat[1:100,]\n",
    "sites = sites[1:00,]\n",
    "eec = eec[1:100,]\n",
    "save(afmat, sites, samps, eec, file = \"orch2021_Downsampled_META_SUB.RData\")"
   ]
  },
  {
   "cell_type": "code",
   "execution_count": 1,
   "metadata": {},
   "outputs": [
    {
     "name": "stderr",
     "output_type": "stream",
     "text": [
      "── \u001b[1mAttaching packages\u001b[22m ─────────────────────────────────────── tidyverse 1.3.1 ──\n",
      "\n",
      "\u001b[32m✔\u001b[39m \u001b[34mggplot2\u001b[39m 3.3.6     \u001b[32m✔\u001b[39m \u001b[34mpurrr  \u001b[39m 0.3.4\n",
      "\u001b[32m✔\u001b[39m \u001b[34mtibble \u001b[39m 3.1.7     \u001b[32m✔\u001b[39m \u001b[34mdplyr  \u001b[39m 1.0.9\n",
      "\u001b[32m✔\u001b[39m \u001b[34mtidyr  \u001b[39m 1.2.0     \u001b[32m✔\u001b[39m \u001b[34mstringr\u001b[39m 1.4.0\n",
      "\u001b[32m✔\u001b[39m \u001b[34mreadr  \u001b[39m 2.1.2     \u001b[32m✔\u001b[39m \u001b[34mforcats\u001b[39m 0.5.1\n",
      "\n",
      "── \u001b[1mConflicts\u001b[22m ────────────────────────────────────────── tidyverse_conflicts() ──\n",
      "\u001b[31m✖\u001b[39m \u001b[34mdplyr\u001b[39m::\u001b[32mfilter()\u001b[39m masks \u001b[34mstats\u001b[39m::filter()\n",
      "\u001b[31m✖\u001b[39m \u001b[34mdplyr\u001b[39m::\u001b[32mlag()\u001b[39m    masks \u001b[34mstats\u001b[39m::lag()\n",
      "\n"
     ]
    },
    {
     "name": "stdout",
     "output_type": "stream",
     "text": [
      "Loading objects:\n",
      "  samps\n",
      "  sites\n",
      "  eec\n",
      "  afmat\n"
     ]
    }
   ],
   "source": [
    "##Getting E Cage biological reps RData - Run on cluster in SubsetRData.R\n",
    "setwd('/scratch/groups/dpetrov/MarkB/Orchard2021Data/RData/Downsampled/')\n",
    "library(tidyverse)\n",
    "load('./orch2021_Downsampled_META_Filtered.RData', verbose = TRUE)\n"
   ]
  },
  {
   "cell_type": "code",
   "execution_count": 3,
   "metadata": {},
   "outputs": [
    {
     "data": {
      "text/html": [
       "<style>\n",
       ".list-inline {list-style: none; margin:0; padding: 0}\n",
       ".list-inline>li {display: inline-block}\n",
       ".list-inline>li:not(:last-child)::after {content: \"\\00b7\"; padding: 0 .5ex}\n",
       "</style>\n",
       "<ol class=list-inline><li>100</li><li>318</li></ol>\n"
      ],
      "text/latex": [
       "\\begin{enumerate*}\n",
       "\\item 100\n",
       "\\item 318\n",
       "\\end{enumerate*}\n"
      ],
      "text/markdown": [
       "1. 100\n",
       "2. 318\n",
       "\n",
       "\n"
      ],
      "text/plain": [
       "[1] 100 318"
      ]
     },
     "metadata": {},
     "output_type": "display_data"
    },
    {
     "data": {
      "text/html": [
       "<style>\n",
       ".list-inline {list-style: none; margin:0; padding: 0}\n",
       ".list-inline>li {display: inline-block}\n",
       ".list-inline>li:not(:last-child)::after {content: \"\\00b7\"; padding: 0 .5ex}\n",
       "</style>\n",
       "<ol class=list-inline><li>100</li><li>318</li></ol>\n"
      ],
      "text/latex": [
       "\\begin{enumerate*}\n",
       "\\item 100\n",
       "\\item 318\n",
       "\\end{enumerate*}\n"
      ],
      "text/markdown": [
       "1. 100\n",
       "2. 318\n",
       "\n",
       "\n"
      ],
      "text/plain": [
       "[1] 100 318"
      ]
     },
     "metadata": {},
     "output_type": "display_data"
    },
    {
     "data": {
      "text/html": [
       "<style>\n",
       ".list-inline {list-style: none; margin:0; padding: 0}\n",
       ".list-inline>li {display: inline-block}\n",
       ".list-inline>li:not(:last-child)::after {content: \"\\00b7\"; padding: 0 .5ex}\n",
       "</style>\n",
       "<ol class=list-inline><li>100</li><li>34</li></ol>\n"
      ],
      "text/latex": [
       "\\begin{enumerate*}\n",
       "\\item 100\n",
       "\\item 34\n",
       "\\end{enumerate*}\n"
      ],
      "text/markdown": [
       "1. 100\n",
       "2. 34\n",
       "\n",
       "\n"
      ],
      "text/plain": [
       "[1] 100  34"
      ]
     },
     "metadata": {},
     "output_type": "display_data"
    },
    {
     "data": {
      "text/html": [
       "<style>\n",
       ".list-inline {list-style: none; margin:0; padding: 0}\n",
       ".list-inline>li {display: inline-block}\n",
       ".list-inline>li:not(:last-child)::after {content: \"\\00b7\"; padding: 0 .5ex}\n",
       "</style>\n",
       "<ol class=list-inline><li>100</li><li>34</li></ol>\n"
      ],
      "text/latex": [
       "\\begin{enumerate*}\n",
       "\\item 100\n",
       "\\item 34\n",
       "\\end{enumerate*}\n"
      ],
      "text/markdown": [
       "1. 100\n",
       "2. 34\n",
       "\n",
       "\n"
      ],
      "text/plain": [
       "[1] 100  34"
      ]
     },
     "metadata": {},
     "output_type": "display_data"
    }
   ],
   "source": [
    "##Getting E Cage biological reps RData - Run on cluster in SubsetRData.R\n",
    "setwd('/scratch/groups/dpetrov/MarkB/Orchard2021Data/RData/Downsampled/')\n",
    "library(tidyverse)\n",
    "load('./orch2021_Downsampled_META_Filtered.RData', verbose = TRUE)\n",
    "df = cbind(samps, t(afmat))\n",
    "df.eec = cbind(samps, t(eec))\n",
    "\n",
    "breps.df = df %>% ##get list of samples with biological reps\n",
    "    filter(biol.rep == \"Yes\")\n",
    "breps = breps.df$sample    \n",
    "\n",
    "df = df %>%\n",
    "    filter(treatment == \"E\") %>%\n",
    "    filter(sample %in% breps) %>%\n",
    "    filter(tech.rep == \"No\")\n",
    "\n",
    "df.eec = df.eec %>%\n",
    "    filter(treatment == \"E\") %>%\n",
    "    filter(sample %in% breps) %>%\n",
    "    filter(tech.rep == \"No\")\n",
    "\n",
    "samps = df[,1:ncol(samps)]\n",
    "\n",
    "df = df[,-c(1:ncol(samps))]\n",
    "df.eec = df.eec[,-c(1:ncol(samps))]\n",
    "\n",
    "afmat = t(df)\n",
    "eec = t(df.eec)\n",
    "\n",
    "\n",
    "save(samps, sites,afmat, eec, file = \"./orch2021_Downsampled_ECage_BiolRep.RData\" )"
   ]
  },
  {
   "cell_type": "code",
   "execution_count": null,
   "metadata": {
    "collapsed": true
   },
   "outputs": [],
   "source": [
    "##Getting All Cage biological reps RData - Run on cluster in SubsetRData_RepsAllTreatments.R\n",
    "setwd('/scratch/groups/dpetrov/MarkB/Orchard2021Data/RData/Downsampled/')\n",
    "library(tidyverse)\n",
    "load('./orch2021_Downsampled_META_Filtered.RData', verbose = TRUE)\n",
    "df = cbind(samps, t(afmat))\n",
    "df.eec = cbind(samps, t(eec))\n",
    "\n",
    "breps.df = df %>% ##get list of samples with biological reps\n",
    "    filter(biol.rep == \"Yes\")\n",
    "breps = breps.df$sample    \n",
    "\n",
    "df = df %>%\n",
    "    filter(sample %in% breps) %>%\n",
    "    filter(tech.rep == \"No\")\n",
    "\n",
    "df.eec = df.eec %>%\n",
    "    filter(sample %in% breps) %>%\n",
    "    filter(tech.rep == \"No\")\n",
    "\n",
    "samps = df[,1:ncol(samps)]\n",
    "\n",
    "df = df[,-c(1:ncol(samps))]\n",
    "df.eec = df.eec[,-c(1:ncol(samps))]\n",
    "\n",
    "afmat = t(df)\n",
    "eec = t(df.eec)\n",
    "\n",
    "\n",
    "save(samps, sites,afmat, eec, file = \"./orch2021_Downsampled_AllTreatments_BiolRep.RData\" )\n",
    "\n",
    "\n"
   ]
  },
  {
   "cell_type": "code",
   "execution_count": null,
   "metadata": {
    "collapsed": true
   },
   "outputs": [],
   "source": []
  },
  {
   "cell_type": "code",
   "execution_count": 29,
   "metadata": {},
   "outputs": [
    {
     "name": "stdout",
     "output_type": "stream",
     "text": [
      "Loading objects:\n",
      "  afmat\n",
      "  sites\n",
      "  samps\n",
      "  eec\n"
     ]
    },
    {
     "data": {
      "text/html": [
       "<style>\n",
       ".list-inline {list-style: none; margin:0; padding: 0}\n",
       ".list-inline>li {display: inline-block}\n",
       ".list-inline>li:not(:last-child)::after {content: \"\\00b7\"; padding: 0 .5ex}\n",
       "</style>\n",
       "<ol class=list-inline><li>100</li><li>318</li></ol>\n"
      ],
      "text/latex": [
       "\\begin{enumerate*}\n",
       "\\item 100\n",
       "\\item 318\n",
       "\\end{enumerate*}\n"
      ],
      "text/markdown": [
       "1. 100\n",
       "2. 318\n",
       "\n",
       "\n"
      ],
      "text/plain": [
       "[1] 100 318"
      ]
     },
     "metadata": {},
     "output_type": "display_data"
    },
    {
     "data": {
      "text/html": [
       "<style>\n",
       ".list-inline {list-style: none; margin:0; padding: 0}\n",
       ".list-inline>li {display: inline-block}\n",
       ".list-inline>li:not(:last-child)::after {content: \"\\00b7\"; padding: 0 .5ex}\n",
       "</style>\n",
       "<ol class=list-inline><li>100</li><li>318</li></ol>\n"
      ],
      "text/latex": [
       "\\begin{enumerate*}\n",
       "\\item 100\n",
       "\\item 318\n",
       "\\end{enumerate*}\n"
      ],
      "text/markdown": [
       "1. 100\n",
       "2. 318\n",
       "\n",
       "\n"
      ],
      "text/plain": [
       "[1] 100 318"
      ]
     },
     "metadata": {},
     "output_type": "display_data"
    }
   ],
   "source": [
    "##Getting E Cage technical reps RData - Run on cluster in SubsetRData.R\n",
    "setwd('/scratch/groups/dpetrov/MarkB/Orchard2021Data/RData/Downsampled/')\n",
    "library(tidyverse)\n",
    "load('./orch2021_Downsampled_META_Filtered.RData', verbose = TRUE)\n",
    "dim(afmat)\n",
    "dim(eec)\n",
    "df = cbind(samps, t(afmat))\n",
    "df.eec = cbind(samps, t(eec))\n",
    "\n",
    "techreps.df = df %>% ##get list of samples with biological reps\n",
    "    filter(tech.rep == \"Yes\")\n",
    "techreps = techreps.df$sample\n",
    "\n",
    "df = df %>%\n",
    "    filter(treatment == \"E\") %>%\n",
    "    filter(sample %in% techreps) %>%\n",
    "    filter(!full.sample.name %in% c(\"tp11_F1_E2_downsamped\", 'tp11_F1_E3_downsamped', 'tp11_F1_E4_downsamped', 'tp11_F1_E6_downsamped','tp11_F1_E6_downsamped', 'tp11_F1_E9_downsamped' )) \n",
    "\n",
    "df.eec = df.eec %>%\n",
    "    filter(treatment == \"E\") %>%\n",
    "    filter(sample %in% techreps) %>%\n",
    "    filter(full.sample.name != \"tp11_F1_E2_downsamped\") %>%\n",
    "    filter(!full.sample.name %in% c(\"tp11_F1_E2_downsamped\", 'tp11_F1_E3_downsamped', 'tp11_F1_E4_downsamped', 'tp11_F1_E6_downsamped','tp11_F1_E6_downsamped', 'tp11_F1_E9_downsamped' )) \n",
    "\n",
    "\n",
    "samps = df[,1:ncol(samps)]\n",
    "\n",
    "df = df[,-c(1:ncol(samps))]\n",
    "df.eec = df.eec[,-c(1:ncol(samps))]\n",
    "\n",
    "afmat = t(df)\n",
    "eec = t(df.eec)\n",
    "\n",
    "save(samps, sites,afmat, eec, file = \"./orch2021_Downsampled_ECage_TechRep.RData\" )\n"
   ]
  },
  {
   "cell_type": "code",
   "execution_count": 19,
   "metadata": {},
   "outputs": [
    {
     "name": "stdout",
     "output_type": "stream",
     "text": [
      "Loading objects:\n",
      "  sites\n",
      "  samps\n",
      "  afmat\n",
      "  eec\n"
     ]
    },
    {
     "data": {
      "text/html": [
       "<style>\n",
       ".list-inline {list-style: none; margin:0; padding: 0}\n",
       ".list-inline>li {display: inline-block}\n",
       ".list-inline>li:not(:last-child)::after {content: \"\\00b7\"; padding: 0 .5ex}\n",
       "</style>\n",
       "<ol class=list-inline><li>100</li><li>318</li></ol>\n"
      ],
      "text/latex": [
       "\\begin{enumerate*}\n",
       "\\item 100\n",
       "\\item 318\n",
       "\\end{enumerate*}\n"
      ],
      "text/markdown": [
       "1. 100\n",
       "2. 318\n",
       "\n",
       "\n"
      ],
      "text/plain": [
       "[1] 100 318"
      ]
     },
     "metadata": {},
     "output_type": "display_data"
    },
    {
     "data": {
      "text/html": [
       "<style>\n",
       ".list-inline {list-style: none; margin:0; padding: 0}\n",
       ".list-inline>li {display: inline-block}\n",
       ".list-inline>li:not(:last-child)::after {content: \"\\00b7\"; padding: 0 .5ex}\n",
       "</style>\n",
       "<ol class=list-inline><li>100</li><li>318</li></ol>\n"
      ],
      "text/latex": [
       "\\begin{enumerate*}\n",
       "\\item 100\n",
       "\\item 318\n",
       "\\end{enumerate*}\n"
      ],
      "text/markdown": [
       "1. 100\n",
       "2. 318\n",
       "\n",
       "\n"
      ],
      "text/plain": [
       "[1] 100 318"
      ]
     },
     "metadata": {},
     "output_type": "display_data"
    }
   ],
   "source": [
    "##Getting All Cages technical reps RData - Run on cluster in SubsetRData.R\n",
    "setwd('/scratch/groups/dpetrov/MarkB/Orchard2021Data/RData/Downsampled/')\n",
    "library(tidyverse)\n",
    "\n",
    "\n",
    "load('./orch2021_Downsampled_META_Filtered.RData', verbose = TRUE)\n",
    "\n",
    "dim(afmat)\n",
    "dim(eec)\n",
    "df = cbind(samps, t(afmat))\n",
    "df.eec = cbind(samps, t(eec))\n",
    "\n",
    "techreps.df = df %>% ##get list of samples with biological reps\n",
    "    filter(tech.rep == \"Yes\")\n",
    "techreps = techreps.df$sample\n",
    "\n",
    "\n",
    "df = df %>%\n",
    "    filter(sample %in% techreps) %>%\n",
    "    filter(!full.sample.name %in% c(\"tp11_F1_E2_downsamped\", 'tp11_F1_E3_downsamped', 'tp11_F1_E4_downsamped', 'tp11_F1_E6_downsamped','tp11_F1_E6_downsamped', 'tp11_F1_E9_downsamped', \"tp3_F1_P7_downsamped\" )) \n",
    "\n",
    "df.eec = df.eec %>%\n",
    "    filter(sample %in% techreps) %>%\n",
    "    filter(!full.sample.name %in% c(\"tp11_F1_E2_downsamped\", 'tp11_F1_E3_downsamped', 'tp11_F1_E4_downsamped', 'tp11_F1_E6_downsamped','tp11_F1_E6_downsamped', 'tp11_F1_E9_downsamped', \"tp3_F1_P7_downsamped\" )) \n",
    "\n",
    "\n",
    "\n",
    "samps = df[,1:ncol(samps)]\n",
    "\n",
    "df = df[,-c(1:ncol(samps))]\n",
    "df.eec = df.eec[,-c(1:ncol(samps))]\n",
    "\n",
    "afmat = t(df)\n",
    "eec = t(df.eec)\n",
    "\n",
    "save(samps, sites,afmat, eec, file = \"./orch2021_Downsampled_TechRep.RData\" )\n"
   ]
  },
  {
   "cell_type": "code",
   "execution_count": 20,
   "metadata": {},
   "outputs": [
    {
     "data": {
      "text/html": [
       "<style>\n",
       ".list-inline {list-style: none; margin:0; padding: 0}\n",
       ".list-inline>li {display: inline-block}\n",
       ".list-inline>li:not(:last-child)::after {content: \"\\00b7\"; padding: 0 .5ex}\n",
       "</style>\n",
       "<ol class=list-inline><li>100</li><li>56</li></ol>\n"
      ],
      "text/latex": [
       "\\begin{enumerate*}\n",
       "\\item 100\n",
       "\\item 56\n",
       "\\end{enumerate*}\n"
      ],
      "text/markdown": [
       "1. 100\n",
       "2. 56\n",
       "\n",
       "\n"
      ],
      "text/plain": [
       "[1] 100  56"
      ]
     },
     "metadata": {},
     "output_type": "display_data"
    },
    {
     "data": {
      "text/html": [
       "<style>\n",
       ".list-inline {list-style: none; margin:0; padding: 0}\n",
       ".list-inline>li {display: inline-block}\n",
       ".list-inline>li:not(:last-child)::after {content: \"\\00b7\"; padding: 0 .5ex}\n",
       "</style>\n",
       "<ol class=list-inline><li>56</li><li>7</li></ol>\n"
      ],
      "text/latex": [
       "\\begin{enumerate*}\n",
       "\\item 56\n",
       "\\item 7\n",
       "\\end{enumerate*}\n"
      ],
      "text/markdown": [
       "1. 56\n",
       "2. 7\n",
       "\n",
       "\n"
      ],
      "text/plain": [
       "[1] 56  7"
      ]
     },
     "metadata": {},
     "output_type": "display_data"
    },
    {
     "data": {
      "text/html": [
       "<style>\n",
       ".list-inline {list-style: none; margin:0; padding: 0}\n",
       ".list-inline>li {display: inline-block}\n",
       ".list-inline>li:not(:last-child)::after {content: \"\\00b7\"; padding: 0 .5ex}\n",
       "</style>\n",
       "<ol class=list-inline><li>100</li><li>56</li></ol>\n"
      ],
      "text/latex": [
       "\\begin{enumerate*}\n",
       "\\item 100\n",
       "\\item 56\n",
       "\\end{enumerate*}\n"
      ],
      "text/markdown": [
       "1. 100\n",
       "2. 56\n",
       "\n",
       "\n"
      ],
      "text/plain": [
       "[1] 100  56"
      ]
     },
     "metadata": {},
     "output_type": "display_data"
    }
   ],
   "source": [
    "dim(afmat)\n",
    "dim(samps)\n",
    "dim(eec)"
   ]
  },
  {
   "cell_type": "code",
   "execution_count": 2,
   "metadata": {},
   "outputs": [
    {
     "data": {
      "text/html": [
       "<style>\n",
       ".list-inline {list-style: none; margin:0; padding: 0}\n",
       ".list-inline>li {display: inline-block}\n",
       ".list-inline>li:not(:last-child)::after {content: \"\\00b7\"; padding: 0 .5ex}\n",
       "</style>\n",
       "<ol class=list-inline><li>2178667</li><li>318</li></ol>\n"
      ],
      "text/latex": [
       "\\begin{enumerate*}\n",
       "\\item 2178667\n",
       "\\item 318\n",
       "\\end{enumerate*}\n"
      ],
      "text/markdown": [
       "1. 2178667\n",
       "2. 318\n",
       "\n",
       "\n"
      ],
      "text/plain": [
       "[1] 2178667     318"
      ]
     },
     "metadata": {},
     "output_type": "display_data"
    },
    {
     "data": {
      "text/html": [
       "<style>\n",
       ".list-inline {list-style: none; margin:0; padding: 0}\n",
       ".list-inline>li {display: inline-block}\n",
       ".list-inline>li:not(:last-child)::after {content: \"\\00b7\"; padding: 0 .5ex}\n",
       "</style>\n",
       "<ol class=list-inline><li>2178667</li><li>2</li></ol>\n"
      ],
      "text/latex": [
       "\\begin{enumerate*}\n",
       "\\item 2178667\n",
       "\\item 2\n",
       "\\end{enumerate*}\n"
      ],
      "text/markdown": [
       "1. 2178667\n",
       "2. 2\n",
       "\n",
       "\n"
      ],
      "text/plain": [
       "[1] 2178667       2"
      ]
     },
     "metadata": {},
     "output_type": "display_data"
    },
    {
     "data": {
      "text/html": [
       "<style>\n",
       ".list-inline {list-style: none; margin:0; padding: 0}\n",
       ".list-inline>li {display: inline-block}\n",
       ".list-inline>li:not(:last-child)::after {content: \"\\00b7\"; padding: 0 .5ex}\n",
       "</style>\n",
       "<ol class=list-inline><li>318</li><li>7</li></ol>\n"
      ],
      "text/latex": [
       "\\begin{enumerate*}\n",
       "\\item 318\n",
       "\\item 7\n",
       "\\end{enumerate*}\n"
      ],
      "text/markdown": [
       "1. 318\n",
       "2. 7\n",
       "\n",
       "\n"
      ],
      "text/plain": [
       "[1] 318   7"
      ]
     },
     "metadata": {},
     "output_type": "display_data"
    },
    {
     "ename": "ERROR",
     "evalue": "Error in eval(expr, envir, enclos): object 'eec' not found\n",
     "output_type": "error",
     "traceback": [
      "Error in eval(expr, envir, enclos): object 'eec' not found\nTraceback:\n"
     ]
    }
   ],
   "source": [
    "load('./orch2021_Downsampled_META_FilteredV2.RData')\n",
    "dim(afmat)\n",
    "dim(sites)\n",
    "dim(samps)\n",
    "dim(eec)"
   ]
  },
  {
   "cell_type": "code",
   "execution_count": 25,
   "metadata": {},
   "outputs": [
    {
     "name": "stderr",
     "output_type": "stream",
     "text": [
      "\n",
      "Attaching package: ‘matrixStats’\n",
      "\n",
      "\n",
      "The following object is masked from ‘package:dplyr’:\n",
      "\n",
      "    count\n",
      "\n",
      "\n"
     ]
    }
   ],
   "source": [
    "##Identifying sites to filter out:\n",
    "#start with baseline data to identify those with :\n",
    "\n",
    "setwd('/scratch/groups/dpetrov/MarkB/Orchard2021Data/RData/Downsampled/')\n",
    "library('tidyverse')\n",
    "library(\"matrixStats\")"
   ]
  },
  {
   "cell_type": "code",
   "execution_count": 4,
   "metadata": {},
   "outputs": [
    {
     "name": "stdout",
     "output_type": "stream",
     "text": [
      "Loading objects:\n",
      "  sites.base\n",
      "  samps.base\n",
      "  afmat.base\n",
      "  eec.base\n"
     ]
    }
   ],
   "source": [
    "load('../Baseline/orch2021_Baseline_Downsampled_RAW.RData', verbose = TRUE)"
   ]
  },
  {
   "cell_type": "code",
   "execution_count": 5,
   "metadata": {
    "collapsed": true
   },
   "outputs": [],
   "source": [
    "df = cbind(sites.base, afmat.base)"
   ]
  },
  {
   "cell_type": "code",
   "execution_count": 12,
   "metadata": {
    "collapsed": true
   },
   "outputs": [],
   "source": [
    "df = df[1:100,]"
   ]
  },
  {
   "cell_type": "code",
   "execution_count": 22,
   "metadata": {
    "collapsed": true
   },
   "outputs": [],
   "source": [
    "df = df %>%\n",
    "    mutate(af.mean = (rowMeans(select(., starts_with(\"Orch\")), na.rm = TRUE)))"
   ]
  },
  {
   "cell_type": "code",
   "execution_count": 23,
   "metadata": {},
   "outputs": [
    {
     "data": {
      "text/html": [
       "<style>\n",
       ".list-inline {list-style: none; margin:0; padding: 0}\n",
       ".list-inline>li {display: inline-block}\n",
       ".list-inline>li:not(:last-child)::after {content: \"\\00b7\"; padding: 0 .5ex}\n",
       "</style>\n",
       "<ol class=list-inline><li>56</li><li>8</li></ol>\n"
      ],
      "text/latex": [
       "\\begin{enumerate*}\n",
       "\\item 56\n",
       "\\item 8\n",
       "\\end{enumerate*}\n"
      ],
      "text/markdown": [
       "1. 56\n",
       "2. 8\n",
       "\n",
       "\n"
      ],
      "text/plain": [
       "[1] 56  8"
      ]
     },
     "metadata": {},
     "output_type": "display_data"
    },
    {
     "data": {
      "text/html": [
       "<style>\n",
       ".list-inline {list-style: none; margin:0; padding: 0}\n",
       ".list-inline>li {display: inline-block}\n",
       ".list-inline>li:not(:last-child)::after {content: \"\\00b7\"; padding: 0 .5ex}\n",
       "</style>\n",
       "<ol class=list-inline><li>42</li><li>8</li></ol>\n"
      ],
      "text/latex": [
       "\\begin{enumerate*}\n",
       "\\item 42\n",
       "\\item 8\n",
       "\\end{enumerate*}\n"
      ],
      "text/markdown": [
       "1. 42\n",
       "2. 8\n",
       "\n",
       "\n"
      ],
      "text/plain": [
       "[1] 42  8"
      ]
     },
     "metadata": {},
     "output_type": "display_data"
    },
    {
     "data": {
      "text/html": [
       "<style>\n",
       ".list-inline {list-style: none; margin:0; padding: 0}\n",
       ".list-inline>li {display: inline-block}\n",
       ".list-inline>li:not(:last-child)::after {content: \"\\00b7\"; padding: 0 .5ex}\n",
       "</style>\n",
       "<ol class=list-inline><li>32</li><li>8</li></ol>\n"
      ],
      "text/latex": [
       "\\begin{enumerate*}\n",
       "\\item 32\n",
       "\\item 8\n",
       "\\end{enumerate*}\n"
      ],
      "text/markdown": [
       "1. 32\n",
       "2. 8\n",
       "\n",
       "\n"
      ],
      "text/plain": [
       "[1] 32  8"
      ]
     },
     "metadata": {},
     "output_type": "display_data"
    }
   ],
   "source": [
    "dim(df %>% filter(af.mean > 0.01))\n",
    "dim(df %>% filter(af.mean > 0.025))\n",
    "dim(df %>% filter(af.mean > 0.05))\n",
    "\n"
   ]
  },
  {
   "cell_type": "code",
   "execution_count": 29,
   "metadata": {
    "collapsed": true
   },
   "outputs": [],
   "source": [
    "df = df %>%\n",
    "    mutate(af.sd = rowSds(as.matrix(df[,c(3:6)])))"
   ]
  },
  {
   "cell_type": "code",
   "execution_count": null,
   "metadata": {
    "collapsed": true
   },
   "outputs": [],
   "source": [
    "setwd('/scratch/groups/dpetrov/MarkB/Orchard2021Data/RData/')\n",
    "library(tidyverse)"
   ]
  }
 ],
 "metadata": {
  "kernelspec": {
   "display_name": "R",
   "language": "R",
   "name": "ir"
  },
  "language_info": {
   "codemirror_mode": "r",
   "file_extension": ".r",
   "mimetype": "text/x-r-source",
   "name": "R",
   "pygments_lexer": "r",
   "version": "3.5.1"
  }
 },
 "nbformat": 4,
 "nbformat_minor": 2
}
