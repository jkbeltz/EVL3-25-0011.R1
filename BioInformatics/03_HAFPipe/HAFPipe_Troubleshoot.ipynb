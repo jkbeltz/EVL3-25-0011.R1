{
 "cells": [
  {
   "cell_type": "code",
   "execution_count": 6,
   "metadata": {},
   "outputs": [
    {
     "name": "stdout",
     "output_type": "stream",
     "text": [
      "Process is interrupted.\n"
     ]
    }
   ],
   "source": [
    "%%sh\n",
    "\n",
    "cd /home/users/mcbitter/dpetrov/MarkB/Orchard2021Data/PigTraitMapping/02_bams_Downsampled/\n",
    "\n",
    "module load R\n",
    "ml py-numpy/1.14.3_py27\n",
    "ml biology\n",
    "ml samtools\n",
    "ml system\n",
    "ml curl\n",
    "\n",
    "\n",
    "#Tpt=2\n",
    "#Gens=8\n",
    "\n",
    "\n",
    "for Chrom in 2L 2R 3L 3R X; do\n",
    "    for i in ./TP2.*.bam;do\n",
    "        /home/users/mcbitter/OrchardProject/Code/HAFpipe-line/HAFpipe_wrapper.sh -t 3,4 \\\n",
    "            -c ${Chrom} \\\n",
    "            -s ../../founders/snptables/Orchard2021/inbredv2_withHets.orch2021.${Chrom}.snpTable \\\n",
    "            -i npute \\\n",
    "            -b $i \\\n",
    "            -r ../../../Dmel_RefGenome/all_dmel.fasta \\\n",
    "            -g 6 \\\n",
    "            -o ../../03_HAFs/\n",
    "    done\n",
    "done"
   ]
  },
  {
   "cell_type": "code",
   "execution_count": 5,
   "metadata": {},
   "outputs": [
    {
     "name": "stdout",
     "output_type": "stream",
     "text": [
      "2L\n",
      "2R\n",
      "3L\n",
      "3R\n",
      "X\n"
     ]
    }
   ],
   "source": [
    "%%sh\n",
    "for Chrom in 2L 2R 3L 3R X; do\n",
    "   echo ${Chrom}\n",
    "done"
   ]
  },
  {
   "cell_type": "code",
   "execution_count": 9,
   "metadata": {},
   "outputs": [
    {
     "name": "stdout",
     "output_type": "stream",
     "text": [
      "unknown flag\n",
      "usage: HAFpipe-line.sh  \n",
      "        [ -t --tasks ]      tasks to run (comma-separated)\n",
      "\n",
      "        [ -l --logfile ]    name of file to write log of commands to\n",
      "\n",
      "        [ -d --scriptdir ]  directory in which HAF-pipe scripts are located; tasks:1,2,3,4\n",
      "                            #(default: directory of this script )\n",
      "\n",
      "        [ -o --outdir ]     output directory for haplotype and allele frequencies; tasks:3,4 \n",
      "\n",
      "        [ -v --vcf ]        vcf file to be converted to snp table; tasks:1\n",
      "\n",
      "        [ -c --chrom ]      name of chromosome to extract from vcf; tasks:1\n",
      "\n",
      "        [ -s --snptable ]   snp table to use for calculating haplotype and allele frequencies; tasks:1,2,3,4 \n",
      "                            # will be written to this location if task 1 is run \n",
      "\n",
      "        [ -k --keephets ]   whether to keep heterozygous calls as ambiguous bases in snp table (rather than treat them as missing and impute them); tasks:1\n",
      "\n",
      "        [ -m --mincalls ]   keep only sites with at least this many ref|alt calls in snp table; tasks:1\n",
      "                            #(default 2)\n",
      "        [ -u --subsetlist ] name of file with a single column of founder names to keep in the snp table; tasks:1\n",
      "\n",
      "\n",
      "        [ -i --impmethod ]  method to use for imputation in task 2 or file extension for task 3; tasks:2,3\n",
      "        \t\t\t\t\tfor task 2, method must be one of:\n",
      "                            #'simpute' (simple imputation)\n",
      "                            #'npute' (see Roberts et al., 2007 - doi:10.1093/bioinformatics/btm220 and http://compgen.unc.edu/wp/?page_id=57 )\n",
      "                            for task 3, method can be any string:\n",
      "                            #default:'none' \n",
      "                            #if a string other than 'none' is supplied, the script will look for the file called [snptable].[method] and will use this to infer haplotype frequencies\n",
      "                            #if method is not specified or is 'none', the original [snptable] with potential missing calls will be used to infer haplotype frequencies\n",
      "\n",
      "        [ -n --nsites ]     number of neighboring sites to use with 'npute' imputation; tasks:2\n",
      "                            #(default: 20)\n",
      "\n",
      "        [ -b --bamfile ]    name of bamfile with mapped reads; tasks:3,4 \n",
      "\n",
      "        [ -r --refseq ]     reference sequence; tasks:3\n",
      "\n",
      "        [ -e --encoding ]   base quality encoding in bam files; tasks:3\n",
      "                            #'illumina' (default)\n",
      "                            #'sanger'\n",
      "\n",
      "\t[ -g --generations ] number of generations of recombination; used to calculate window size for haplotype inference; tasks=3\n",
      "\t\n",
      "\t[ -a --recombrate ] recombination rate used to calculate window size for haplotype inference; tasks=3\t\n",
      "                        #default: 0.0000000239\n",
      "\n",
      "\t[ -q --quantile ]   quantile of expected unrecombined segment distribution to use for determining haplotype inference window size; tasks:3\n",
      "                        #default: 18\n",
      "        \n",
      "\t[ -w --winsize ]    user-defined window size (in kb) for haplotype inference; tasks:3\n",
      "                            #(overrides -g and -a) \n",
      "\n",
      "        [ -h help ]         show this help screen\n",
      "    \n",
      "    #tasks are:\n",
      "\t1 - make SNP table from VCF\n",
      "\t2 - impute SNP table\n",
      "\t3 - infer haplotype frequencies\n",
      "\t4 - calculate allele frequencies\n",
      "\n",
      "    #requirements:\n",
      "\tR (tested on versions >= 3.2)\n",
      "\tR libraries: (data.table)\n",
      "    for imputation method 'npute':\n",
      "    -- python 2\n",
      "    -- numpy\n",
      "    \n",
      "    ## must be installed and on path: \n",
      "   1) harp\n",
      "   2) tabix\n",
      "   3) bgzip\n",
      "\n"
     ]
    },
    {
     "name": "stderr",
     "output_type": "stream",
     "text": [
      "sh: line 6: -b: command not found\n"
     ]
    }
   ],
   "source": [
    "%%sh\n",
    "cd /home/users/mcbitter/dpetrov/MarkB/Orchard2021Data/PigTraitMapping/02_bams_Downsampled/\n",
    "/home/users/mcbitter/OrchardProject/Code/HAFpipe-line/HAFpipe_wrapper.sh -t 3,4 \\\n",
    "    -c 2L \\\n",
    "    -s ../../founders/snptables/Orchard2021/inbredv2_withHets.orch2021.2L.snpTable \\\n",
    "    -i npute \\ \n",
    "    -b ./TP2.E11.D_downsamped.bam \\\n",
    "    -r ../../../Dmel_RefGenome/all_dmel.fasta \\\n",
    "    -g 6 \\\n",
    "    -o ../../03_HAFs/\n"
   ]
  },
  {
   "cell_type": "code",
   "execution_count": null,
   "metadata": {
    "collapsed": true
   },
   "outputs": [],
   "source": []
  }
 ],
 "metadata": {
  "kernelspec": {
   "display_name": "Python 3",
   "language": "python",
   "name": "python3"
  },
  "language_info": {
   "codemirror_mode": {
    "name": "ipython",
    "version": 3
   },
   "file_extension": ".py",
   "mimetype": "text/x-python",
   "name": "python",
   "nbconvert_exporter": "python",
   "pygments_lexer": "ipython3",
   "version": "3.6.1"
  }
 },
 "nbformat": 4,
 "nbformat_minor": 2
}
