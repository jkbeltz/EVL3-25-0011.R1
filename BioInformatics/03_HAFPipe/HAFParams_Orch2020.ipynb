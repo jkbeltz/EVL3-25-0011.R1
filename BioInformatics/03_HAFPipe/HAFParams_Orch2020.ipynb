{
 "cells": [
  {
   "cell_type": "code",
   "execution_count": null,
   "metadata": {
    "collapsed": true
   },
   "outputs": [],
   "source": [
    "##Just noting the haf pipe parameters\n",
    "##5 time points (+ baseline samples)"
   ]
  },
  {
   "cell_type": "code",
   "execution_count": 3,
   "metadata": {},
   "outputs": [],
   "source": [
    "tps = c(0, 1, 2, 3, 4, 5)\n",
    "gens = c(4, 6, 8, 10, 12, 14)\n",
    "df = cbind(tps, gens)\n",
    "write.table(df, './HAFParams.Orch2020.csv' , row.names = FALSE)"
   ]
  },
  {
   "cell_type": "code",
   "execution_count": null,
   "metadata": {
    "collapsed": true
   },
   "outputs": [],
   "source": []
  }
 ],
 "metadata": {
  "kernelspec": {
   "display_name": "R",
   "language": "R",
   "name": "ir"
  },
  "language_info": {
   "codemirror_mode": "r",
   "file_extension": ".r",
   "mimetype": "text/x-r-source",
   "name": "R",
   "pygments_lexer": "r",
   "version": "3.5.1"
  }
 },
 "nbformat": 4,
 "nbformat_minor": 2
}
